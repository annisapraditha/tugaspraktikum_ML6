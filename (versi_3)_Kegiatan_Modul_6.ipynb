{
  "nbformat": 4,
  "nbformat_minor": 0,
  "metadata": {
    "colab": {
      "name": "(versi 3) Kegiatan Modul 6.ipynb",
      "provenance": [],
      "collapsed_sections": [],
      "include_colab_link": true
    },
    "kernelspec": {
      "name": "python3",
      "display_name": "Python 3"
    },
    "language_info": {
      "name": "python"
    },
    "accelerator": "GPU"
  },
  "cells": [
    {
      "cell_type": "markdown",
      "metadata": {
        "id": "view-in-github",
        "colab_type": "text"
      },
      "source": [
        "<a href=\"https://colab.research.google.com/github/annisapraditha/tugaspraktikum_ML6/blob/main/(versi_3)_Kegiatan_Modul_6.ipynb\" target=\"_parent\"><img src=\"https://colab.research.google.com/assets/colab-badge.svg\" alt=\"Open In Colab\"/></a>"
      ]
    },
    {
      "cell_type": "markdown",
      "metadata": {
        "id": "wQBa4hXoxDUd"
      },
      "source": [
        "# **Soal Praktikum Model Deployment**"
      ]
    },
    {
      "cell_type": "markdown",
      "metadata": {
        "id": "06V87X5rVRM2"
      },
      "source": [
        "## Kegiatan 1 **(Kelompok)** \n",
        "100 poin"
      ]
    },
    {
      "cell_type": "markdown",
      "metadata": {
        "id": "fBIbZKBZKKHN"
      },
      "source": [
        "**Ketentuan Wajib**\n",
        "* Tulis dokumentasi tugas kelompok anda dalam file README.md\n",
        "* Cek daftar dataset seluruh praktikan [disini](https://docs.google.com/spreadsheets/d/1qyu5AVDhPhegpRTbNaDoq5qXX4_CX09Q7tYyD-fkF_c/edit?usp=sharing)\n",
        "* Seluruh data dan progress pengerjaan tugas kelompok harus berada dalam github repository sebelum praktikum dimulai\n",
        "* Tidak diperbolehkan berganti anggota kelompok selama satu semester ini\n",
        "* Tidak diperbolehkan berganti repository selama mengerjakan tugas kelompok ini\n",
        "* **Tidak diperbolehkan berganti dataset atau jurnal rujukan**\n",
        "* Pastikan anda menggunakan akun github pribadi untuk melakukan commit dan push\n",
        "\n",
        "**Penilaian**\n",
        "* Keaktifan dalam tim\n",
        "* Kontribusi dalam proyek dan tim\n",
        "* Penerapan prinsip kerja Agile (sprint backlog dan report terdokumentasikan dengan baik)\n",
        "* Pembagian tugas yang jelas untuk masing - masing angota kelompok \n",
        "* Progress pengerjaan tugas kelompok\n",
        "* Problem solving masing - masing anggota terhadap kendala yang dialami\n",
        "* Pemahaman masing - masing anggota tim terhadap tugas yang dikerjakan\n",
        "* Pendokumentasian proyek \"clear and clean documentation\"\n",
        "\n",
        "**Materi pendukung**\n",
        "* [Project documentation](https://realpython.com/documenting-python-code)\n",
        "* [Github readme](https://docs.github.com/en/github/writing-on-github/getting-started-with-writing-and-formatting-on-github/basic-writing-and-formatting-syntax)\n",
        "* [Sprint backlog](https://www.lucidchart.com/blog/how-to-develop-a-product-backlog-in-agile)"
      ]
    },
    {
      "cell_type": "markdown",
      "metadata": {
        "id": "fVmvFYd1cvaf"
      },
      "source": [
        "**Pre-requirement** \n",
        "1. Membuat virtual environment python atau anaconda python\n",
        "2. Menjalankan virtual environment dan menginstall seluruh package yang digunakan dalam kegiatan ini pada virtual environment.\n",
        "3. Membuat file `requirement.txt` yang berisi seluruh paket package digunakan dalam kegiatan bagian B.\n",
        "4. Deployment menggunakan flask micro framework dari python\n",
        "5. Project berbasis python file berekstensi `.py` bukan file notebook `.ipynb`\n",
        "\n",
        "**Kriteria wajib untuk deploy model**\n",
        "1. Menggunakan model yang telah dilatih dan disimpan dalam format `.h5`,`.json` dan `.tflite` pada kegiatan kelompok di modul - modul sebelumnya.\n",
        "2. Memiliki fitur upload data untuk diprediksi oleh model\n",
        "3. Memiliki menu **pilih model** untuk memilih model yang ingin digunakan untuk memprediksi gambar.\n",
        "4. Memiliki fitur komparasi model (fitur untuk membandingankan kinerja dari beberapa model dalam memprediksi data baru)\n",
        "5. Memiliki fitur **pilih gambar** yang terdiri dari 25 gambar acak untuk diprediksi. Masing-masing kelas dari dataset anda harus terwakili oleh minimal 1 buah gambar.\n",
        "6. Menampilkan hasil akurasi prediksi, lama waktu prediksi, input gambar yang dipresiksi dan label gambar yang diprediksi.\n",
        "7. Menyimpan seluruh progress dan hasil pengerjaan modul dalam repository `github`."
      ]
    },
    {
      "cell_type": "code",
      "metadata": {
        "id": "2X19oxmr2PiR",
        "colab": {
          "base_uri": "https://localhost:8080/"
        },
        "outputId": "fb4ab622-de84-48e6-e7df-52c4096f95f1"
      },
      "source": [
        "# Tulis Program Di Desktop Anda (Bukan Disini)\n",
        "from google.colab import drive\n",
        "drive.mount('/content/drive')"
      ],
      "execution_count": 1,
      "outputs": [
        {
          "output_type": "stream",
          "name": "stdout",
          "text": [
            "Mounted at /content/drive\n"
          ]
        }
      ]
    },
    {
      "cell_type": "code",
      "source": [
        "import os\n",
        "os.environ['KAGGLE_CONFIG_DIR'] = \"/content/drive/MyDrive/RESEARCH CENTER/DATASETS/Modul 6\""
      ],
      "metadata": {
        "id": "MbJUwEZKQEjS"
      },
      "execution_count": 2,
      "outputs": []
    },
    {
      "cell_type": "code",
      "source": [
        "ls"
      ],
      "metadata": {
        "colab": {
          "base_uri": "https://localhost:8080/"
        },
        "id": "yqooGNCr8QqJ",
        "outputId": "6c9f9e0c-54d0-4588-fbbe-2388620cd929"
      },
      "execution_count": 3,
      "outputs": [
        {
          "output_type": "stream",
          "name": "stdout",
          "text": [
            "\u001b[0m\u001b[01;34mdrive\u001b[0m/  \u001b[01;34msample_data\u001b[0m/\n"
          ]
        }
      ]
    },
    {
      "cell_type": "code",
      "source": [
        "%cd /content/drive/MyDrive/RESEARCH CENTER/DATASETS/Modul 6"
      ],
      "metadata": {
        "id": "gb4ze5c5QEhC",
        "colab": {
          "base_uri": "https://localhost:8080/"
        },
        "outputId": "1269148f-4e74-4643-bdf4-da687effa502"
      },
      "execution_count": 4,
      "outputs": [
        {
          "output_type": "stream",
          "name": "stdout",
          "text": [
            "/content/drive/MyDrive/RESEARCH CENTER/DATASETS/Modul 6\n"
          ]
        }
      ]
    },
    {
      "cell_type": "code",
      "source": [
        "!kaggle datasets download -d wanderdust/skin-lesion-analysis-toward-melanoma-detection"
      ],
      "metadata": {
        "id": "h7_yyV72QElZ",
        "colab": {
          "base_uri": "https://localhost:8080/"
        },
        "outputId": "ee61988d-5596-4690-bb7d-48791d2a5bc1"
      },
      "execution_count": 13,
      "outputs": [
        {
          "output_type": "stream",
          "name": "stdout",
          "text": [
            "Downloading skin-lesion-analysis-toward-melanoma-detection.zip to /content/drive/MyDrive/RESEARCH CENTER/DATASETS/Modul 6\n",
            "100% 11.3G/11.3G [04:05<00:00, 115MB/s]\n",
            "100% 11.3G/11.3G [04:05<00:00, 49.4MB/s]\n"
          ]
        }
      ]
    },
    {
      "cell_type": "code",
      "source": [
        "import os\n",
        "import zipfile\n",
        "\n",
        "local_zip = '/content/drive/MyDrive/RESEARCH CENTER/DATASETS/Modul 6/skin-lesion-analysis-toward-melanoma-detection.zip'\n",
        "zip_ref = zipfile.ZipFile(local_zip, 'r')\n",
        "zip_ref.extractall('/tmp')\n",
        "zip_ref.close()"
      ],
      "metadata": {
        "id": "p2BZbH_bQEnc"
      },
      "execution_count": 5,
      "outputs": []
    },
    {
      "cell_type": "code",
      "source": [
        "%cd /tmp/skin-lesions"
      ],
      "metadata": {
        "id": "bu9kVbmiQEpw",
        "colab": {
          "base_uri": "https://localhost:8080/"
        },
        "outputId": "090bd61b-0656-468e-e4a9-4d3538f42cb9"
      },
      "execution_count": 18,
      "outputs": [
        {
          "output_type": "stream",
          "name": "stdout",
          "text": [
            "/tmp/skin-lesions\n"
          ]
        }
      ]
    },
    {
      "cell_type": "code",
      "source": [
        "%ls"
      ],
      "metadata": {
        "id": "fqRjPduWQEti",
        "colab": {
          "base_uri": "https://localhost:8080/"
        },
        "outputId": "4aaf66e3-4aca-409f-d2fa-232540b13619"
      },
      "execution_count": 19,
      "outputs": [
        {
          "output_type": "stream",
          "name": "stdout",
          "text": [
            "\u001b[0m\u001b[01;34mtest\u001b[0m/  \u001b[01;34mtrain\u001b[0m/  \u001b[01;34mvalid\u001b[0m/\n"
          ]
        }
      ]
    },
    {
      "cell_type": "code",
      "source": [
        "import os\n",
        "import cv2\n",
        "import numpy as np \n",
        "import pandas as pd\n",
        "import matplotlib.pyplot as plt\n",
        "import seaborn as sns\n",
        "from keras.utils.np_utils import to_categorical\n",
        "from sklearn.model_selection import train_test_split\n",
        "from tensorflow import keras\n",
        "from tensorflow.keras import layers\n",
        "from keras.models import Sequential\n",
        "from tensorflow.keras.optimizers import RMSprop, Adam\n",
        "from sklearn.metrics import confusion_matrix\n",
        "from tensorflow.keras import callbacks\n",
        "from keras.callbacks import ReduceLROnPlateau\n",
        "from keras.preprocessing.image import ImageDataGenerator\n",
        "from sklearn.metrics import classification_report, confusion_matrix"
      ],
      "metadata": {
        "id": "XpThIi5CQEvh"
      },
      "execution_count": 20,
      "outputs": []
    },
    {
      "cell_type": "code",
      "source": [
        "train_dir = 'train'\n",
        "test_dir = 'test'\n",
        "valid_dir = 'valid'"
      ],
      "metadata": {
        "id": "FhEPpwnzQExi"
      },
      "execution_count": 21,
      "outputs": []
    },
    {
      "cell_type": "code",
      "source": [
        "import cv2\n",
        "import numpy as np\n",
        "import os\n",
        "\n",
        "test_data = []\n",
        "test_label = []\n",
        "for r, d, f in os.walk(test_dir):\n",
        "    for file in f:\n",
        "        if \".jpg\" in file:\n",
        "            imagePath = os.path.join(r, file)\n",
        "            image = cv2.imread(imagePath)\n",
        "            image = cv2.resize(image, ((224,224)))\n",
        "            test_data.append(image)\n",
        "            label = imagePath.split(os.path.sep)[-2]\n",
        "            test_label.append(label)\n",
        "\n",
        "test_data = np.array(test_data)\n",
        "test_label = np.array(test_label)"
      ],
      "metadata": {
        "id": "srhp2VhOQEzG"
      },
      "execution_count": 22,
      "outputs": []
    },
    {
      "cell_type": "code",
      "source": [
        "import cv2\n",
        "import numpy as np\n",
        "import os\n",
        "\n",
        "train_data = []\n",
        "train_label = []\n",
        "for r, d, f in os.walk(train_dir):\n",
        "    for file in f:\n",
        "        if \".jpg\" in file:\n",
        "            imagePath = os.path.join(r, file)\n",
        "            image = cv2.imread(imagePath)\n",
        "            image = cv2.resize(image, ((224,224)))\n",
        "            train_data.append(image)\n",
        "            label = imagePath.split(os.path.sep)[-2]\n",
        "            train_label.append(label)\n",
        "\n",
        "train_data = np.array(train_data)\n",
        "train_label = np.array(train_label)"
      ],
      "metadata": {
        "id": "zOfDry6KQE1F"
      },
      "execution_count": 23,
      "outputs": []
    },
    {
      "cell_type": "code",
      "source": [
        "import cv2\n",
        "import numpy as np\n",
        "import os\n",
        "\n",
        "valid_data = []\n",
        "valid_label = []\n",
        "for r, d, f in os.walk(valid_dir):\n",
        "    for file in f:\n",
        "        if \".jpg\" in file:\n",
        "            imagePath = os.path.join(r, file)\n",
        "            image = cv2.imread(imagePath)\n",
        "            image = cv2.resize(image, ((224,224)))\n",
        "            valid_data.append(image)\n",
        "            label = imagePath.split(os.path.sep)[-2]\n",
        "            valid_label.append(label)\n",
        "\n",
        "valid_data = np.array(valid_data)\n",
        "valid_label = np.array(valid_label)"
      ],
      "metadata": {
        "id": "MlT3b3umCD17"
      },
      "execution_count": 24,
      "outputs": []
    },
    {
      "cell_type": "code",
      "source": [
        "print(\"Train Data = \", train_data.shape)\n",
        "print(\"Train Label = \", train_label.shape)\n",
        "print(\"Test Data = \", test_data.shape)\n",
        "print(\"Test Label = \", test_label.shape)\n",
        "print(\"Valid Data = \", valid_data.shape)\n",
        "print(\"Valid Label = \", valid_label.shape)"
      ],
      "metadata": {
        "id": "m5XE2g67QE3H",
        "colab": {
          "base_uri": "https://localhost:8080/"
        },
        "outputId": "fe158bda-4cc2-40c5-837b-55037c0fdae8"
      },
      "execution_count": 25,
      "outputs": [
        {
          "output_type": "stream",
          "name": "stdout",
          "text": [
            "Train Data =  (2000, 224, 224, 3)\n",
            "Train Label =  (2000,)\n",
            "Test Data =  (600, 224, 224, 3)\n",
            "Test Label =  (600,)\n",
            "Valid Data =  (150, 224, 224, 3)\n",
            "Valid Label =  (150,)\n"
          ]
        }
      ]
    },
    {
      "cell_type": "code",
      "source": [
        "# Normalisasi dataset\n",
        "print(\"Data sebelum di-normalisasi \", test_data[0][0][0])\n",
        "\n",
        "x_test = test_data.astype('float32') / 255.0\n",
        "x_train = train_data.astype('float32') / 255.0\n",
        "print(\"Data setelah di-normalisasi \", x_test[0][0][0])"
      ],
      "metadata": {
        "id": "a7Ql1kf1QE5h",
        "colab": {
          "base_uri": "https://localhost:8080/"
        },
        "outputId": "5aba5997-38f1-4d44-941a-d6fd36674e98"
      },
      "execution_count": 26,
      "outputs": [
        {
          "output_type": "stream",
          "name": "stdout",
          "text": [
            "Data sebelum di-normalisasi  [228 224 232]\n",
            "Data setelah di-normalisasi  [0.89411765 0.8784314  0.9098039 ]\n"
          ]
        }
      ]
    },
    {
      "cell_type": "code",
      "source": [
        "# Transformasi label encoder\n",
        "from sklearn.preprocessing import LabelEncoder\n",
        "\n",
        "print(\"Label sebelum di-encoder \", test_label[100:110])\n",
        "\n",
        "lb = LabelEncoder()\n",
        "y_test = lb.fit_transform(test_label)\n",
        "y_train = lb.fit_transform(train_label)\n",
        "\n",
        "print(\"Label setelah di-encoder \", y_test[100:110])"
      ],
      "metadata": {
        "id": "iv7YIurCQE8L",
        "colab": {
          "base_uri": "https://localhost:8080/"
        },
        "outputId": "418881e4-00c8-42b2-cfd1-f59ab2c99ea9"
      },
      "execution_count": 27,
      "outputs": [
        {
          "output_type": "stream",
          "name": "stdout",
          "text": [
            "Label sebelum di-encoder  ['nevus' 'nevus' 'nevus' 'nevus' 'nevus' 'nevus' 'nevus' 'nevus' 'nevus'\n",
            " 'nevus']\n",
            "Label setelah di-encoder  [1 1 1 1 1 1 1 1 1 1]\n"
          ]
        }
      ]
    },
    {
      "cell_type": "code",
      "source": [
        "from tensorflow.keras.preprocessing.image import ImageDataGenerator\n",
        "\n",
        "train_datagen = ImageDataGenerator(\n",
        "    rescale=1./225,\n",
        "    rotation_range=20,\n",
        "    horizontal_flip=True,\n",
        "    shear_range=0.2,\n",
        "    zoom_range=0.2,\n",
        ")\n",
        "\n",
        "val_datagen = ImageDataGenerator(\n",
        "    rescale=1./255\n",
        ")"
      ],
      "metadata": {
        "id": "nLXJc7xvQE_p"
      },
      "execution_count": 28,
      "outputs": []
    },
    {
      "cell_type": "code",
      "source": [
        "train_generator = train_datagen.flow_from_directory(\n",
        "    train_dir,\n",
        "    target_size=(224,224),\n",
        "    batch_size=32,\n",
        "    class_mode='categorical',\n",
        "    color_mode='rgb',\n",
        "    shuffle=True\n",
        ")\n",
        "\n",
        "val_generator = val_datagen.flow_from_directory(\n",
        "    valid_dir,\n",
        "    target_size=(224,224),\n",
        "    batch_size=32,\n",
        "    class_mode='categorical',\n",
        "    color_mode='rgb',\n",
        "    shuffle=True\n",
        ")\n",
        "\n",
        "test_generator = val_datagen.flow_from_directory(\n",
        "    test_dir,\n",
        "    target_size=(224,224),\n",
        "    batch_size=32,\n",
        "    class_mode='categorical',\n",
        "    color_mode='rgb',\n",
        "    shuffle=True\n",
        ")"
      ],
      "metadata": {
        "id": "bvAHF1i2QFCk",
        "colab": {
          "base_uri": "https://localhost:8080/"
        },
        "outputId": "65a0dd02-0567-415d-d408-7ed71f21fab2"
      },
      "execution_count": 29,
      "outputs": [
        {
          "output_type": "stream",
          "name": "stdout",
          "text": [
            "Found 2000 images belonging to 3 classes.\n",
            "Found 150 images belonging to 3 classes.\n",
            "Found 600 images belonging to 3 classes.\n"
          ]
        }
      ]
    },
    {
      "cell_type": "code",
      "source": [
        "train_generator.class_indices"
      ],
      "metadata": {
        "colab": {
          "base_uri": "https://localhost:8080/"
        },
        "id": "WE6Ta-oeOOrk",
        "outputId": "f5511515-005e-4560-c736-cfdfa94968c5"
      },
      "execution_count": 30,
      "outputs": [
        {
          "output_type": "execute_result",
          "data": {
            "text/plain": [
              "{'melanoma': 0, 'nevus': 1, 'seborrheic_keratosis': 2}"
            ]
          },
          "metadata": {},
          "execution_count": 30
        }
      ]
    },
    {
      "cell_type": "code",
      "source": [
        "from tensorflow.keras.preprocessing.image import ImageDataGenerator\n",
        "aug = ImageDataGenerator(rotation_range=30, width_shift_range=0.1,\n",
        "                        height_shift_range=0.1, shear_range=0.2, \n",
        "                        zoom_range=0.8, horizontal_flip=True,\n",
        "                        fill_mode=\"nearest\")"
      ],
      "metadata": {
        "id": "sLrjQBrIOtIn"
      },
      "execution_count": 31,
      "outputs": []
    },
    {
      "cell_type": "code",
      "source": [
        "from tensorflow.keras.models import Model\n",
        "from tensorflow.keras.layers import Dense, Flatten, Dropout, Input, GlobalAveragePooling2D\n",
        "from tensorflow.keras.applications import MobileNet, ResNet50V2"
      ],
      "metadata": {
        "id": "UrkoHvBVOwkj"
      },
      "execution_count": 45,
      "outputs": []
    },
    {
      "cell_type": "code",
      "source": [
        "import tensorflow as tf\n",
        "from keras import layers, Model\n",
        "from keras.layers import InputLayer, Activation, Dense, Conv2D, MaxPool2D, Dropout, Flatten, BatchNormalization, Concatenate, Input, GlobalAveragePooling2D\n",
        "from keras.models import Sequential\n",
        "\n",
        "model_1 = MobileNet(weights='imagenet', include_top=False, input_shape=(224,224,3))\n",
        "model_2 = ResNet50V2(weights='imagenet', include_top=False, input_shape=(224,224,3))"
      ],
      "metadata": {
        "id": "CPRiGuFQO3cw"
      },
      "execution_count": 46,
      "outputs": []
    },
    {
      "cell_type": "code",
      "source": [
        "for layer in model_1.layers:\n",
        "  layer.trainable=False\n",
        "\n",
        "for layer in model_2.layers:\n",
        "  layer.trainable=False"
      ],
      "metadata": {
        "id": "4MTRtCGiPECy"
      },
      "execution_count": 47,
      "outputs": []
    },
    {
      "cell_type": "markdown",
      "source": [
        "model 1"
      ],
      "metadata": {
        "id": "IIeg6Y6KiY7G"
      }
    },
    {
      "cell_type": "code",
      "source": [
        "input = Input(shape=(224,224,3))\n",
        "model_tf = model_1(input)\n",
        "model_tf1 = model_2(input)\n",
        "net_1 = Concatenate()([model_tf, model_tf1])\n",
        "net_1 = Flatten()(net_1)\n",
        "net_1 = Dense(128, activation='relu')(net_1)\n",
        "net_1 = Dense(64, activation='relu')(net_1)\n",
        "net_1 = Dense(3, activation='softmax')(net_1)\n",
        "\n",
        "model_1 = Model(inputs=input, outputs=net_1)\n",
        "model_1.summary()"
      ],
      "metadata": {
        "id": "jxvK5i5pQFEz",
        "colab": {
          "base_uri": "https://localhost:8080/"
        },
        "outputId": "2db21435-f017-4911-d25e-9bc297956db5"
      },
      "execution_count": 46,
      "outputs": [
        {
          "output_type": "stream",
          "name": "stdout",
          "text": [
            "Model: \"model_1\"\n",
            "__________________________________________________________________________________________________\n",
            " Layer (type)                   Output Shape         Param #     Connected to                     \n",
            "==================================================================================================\n",
            " input_7 (InputLayer)           [(None, 224, 224, 3  0           []                               \n",
            "                                )]                                                                \n",
            "                                                                                                  \n",
            " mobilenet_1.00_224 (Functional  (None, 7, 7, 1024)  3228864     ['input_7[0][0]']                \n",
            " )                                                                                                \n",
            "                                                                                                  \n",
            " mobilenetv2_1.00_224 (Function  (None, 7, 7, 1280)  2257984     ['input_7[0][0]']                \n",
            " al)                                                                                              \n",
            "                                                                                                  \n",
            " concatenate_1 (Concatenate)    (None, 7, 7, 2304)   0           ['mobilenet_1.00_224[0][0]',     \n",
            "                                                                  'mobilenetv2_1.00_224[0][0]']   \n",
            "                                                                                                  \n",
            " flatten_1 (Flatten)            (None, 112896)       0           ['concatenate_1[0][0]']          \n",
            "                                                                                                  \n",
            " dense_3 (Dense)                (None, 128)          14450816    ['flatten_1[0][0]']              \n",
            "                                                                                                  \n",
            " dense_4 (Dense)                (None, 64)           8256        ['dense_3[0][0]']                \n",
            "                                                                                                  \n",
            " dense_5 (Dense)                (None, 3)            195         ['dense_4[0][0]']                \n",
            "                                                                                                  \n",
            "==================================================================================================\n",
            "Total params: 19,946,115\n",
            "Trainable params: 14,459,267\n",
            "Non-trainable params: 5,486,848\n",
            "__________________________________________________________________________________________________\n"
          ]
        }
      ]
    },
    {
      "cell_type": "code",
      "source": [
        "from tensorflow.keras.optimizers import Adam, RMSprop\n",
        "model_1.compile(loss='categorical_crossentropy',\n",
        "              optimizer=Adam(learning_rate=0.0001),\n",
        "              metrics=['accuracy'])"
      ],
      "metadata": {
        "id": "gjwLVf7AQFHx"
      },
      "execution_count": 32,
      "outputs": []
    },
    {
      "cell_type": "code",
      "source": [
        "import time\n",
        "\n",
        "start=time.time()\n",
        "history = model_1.fit(train_generator,\n",
        "          epochs=100,\n",
        "          steps_per_epoch=8,\n",
        "          validation_data=val_generator,\n",
        "          verbose=1)"
      ],
      "metadata": {
        "id": "-u_BXVTGQFKu",
        "colab": {
          "base_uri": "https://localhost:8080/"
        },
        "outputId": "57ef44d2-8014-463c-ec12-f9116db938cc"
      },
      "execution_count": 33,
      "outputs": [
        {
          "output_type": "stream",
          "name": "stdout",
          "text": [
            "Epoch 1/100\n",
            "8/8 [==============================] - 102s 12s/step - loss: 2.0843 - accuracy: 0.5352 - val_loss: 2.2264 - val_accuracy: 0.4600\n",
            "Epoch 2/100\n",
            "8/8 [==============================] - 77s 10s/step - loss: 1.0563 - accuracy: 0.6602 - val_loss: 1.0664 - val_accuracy: 0.5333\n",
            "Epoch 3/100\n",
            "8/8 [==============================] - 80s 11s/step - loss: 0.9573 - accuracy: 0.6602 - val_loss: 1.0651 - val_accuracy: 0.5667\n",
            "Epoch 4/100\n",
            "8/8 [==============================] - 84s 11s/step - loss: 0.8537 - accuracy: 0.6836 - val_loss: 0.8451 - val_accuracy: 0.6600\n",
            "Epoch 5/100\n",
            "8/8 [==============================] - 76s 10s/step - loss: 0.6928 - accuracy: 0.7227 - val_loss: 0.8871 - val_accuracy: 0.6400\n",
            "Epoch 6/100\n",
            "8/8 [==============================] - 75s 10s/step - loss: 0.5515 - accuracy: 0.7969 - val_loss: 0.7776 - val_accuracy: 0.6667\n",
            "Epoch 7/100\n",
            "8/8 [==============================] - 78s 11s/step - loss: 0.6105 - accuracy: 0.7266 - val_loss: 0.8264 - val_accuracy: 0.6733\n",
            "Epoch 8/100\n",
            "8/8 [==============================] - 72s 10s/step - loss: 0.5670 - accuracy: 0.7625 - val_loss: 0.8113 - val_accuracy: 0.6867\n",
            "Epoch 9/100\n",
            "8/8 [==============================] - 81s 11s/step - loss: 0.5949 - accuracy: 0.7734 - val_loss: 1.1481 - val_accuracy: 0.5867\n",
            "Epoch 10/100\n",
            "8/8 [==============================] - 72s 9s/step - loss: 0.5144 - accuracy: 0.7917 - val_loss: 0.8699 - val_accuracy: 0.6533\n",
            "Epoch 11/100\n",
            "8/8 [==============================] - 77s 10s/step - loss: 0.6163 - accuracy: 0.7383 - val_loss: 0.9967 - val_accuracy: 0.7133\n",
            "Epoch 12/100\n",
            "8/8 [==============================] - 78s 10s/step - loss: 0.7503 - accuracy: 0.7344 - val_loss: 0.7954 - val_accuracy: 0.6933\n",
            "Epoch 13/100\n",
            "8/8 [==============================] - 73s 10s/step - loss: 0.6210 - accuracy: 0.7930 - val_loss: 0.7854 - val_accuracy: 0.6400\n",
            "Epoch 14/100\n",
            "8/8 [==============================] - 77s 10s/step - loss: 0.6509 - accuracy: 0.7383 - val_loss: 0.8487 - val_accuracy: 0.7067\n",
            "Epoch 15/100\n",
            "8/8 [==============================] - 75s 10s/step - loss: 0.4738 - accuracy: 0.8164 - val_loss: 1.0054 - val_accuracy: 0.6600\n",
            "Epoch 16/100\n",
            "8/8 [==============================] - 80s 11s/step - loss: 0.5222 - accuracy: 0.7695 - val_loss: 0.7854 - val_accuracy: 0.7200\n",
            "Epoch 17/100\n",
            "8/8 [==============================] - 80s 11s/step - loss: 0.5331 - accuracy: 0.7539 - val_loss: 0.7196 - val_accuracy: 0.7200\n",
            "Epoch 18/100\n",
            "8/8 [==============================] - 78s 10s/step - loss: 0.4828 - accuracy: 0.8164 - val_loss: 0.7340 - val_accuracy: 0.6667\n",
            "Epoch 19/100\n",
            "8/8 [==============================] - 75s 10s/step - loss: 0.4766 - accuracy: 0.8359 - val_loss: 0.8176 - val_accuracy: 0.7133\n",
            "Epoch 20/100\n",
            "8/8 [==============================] - 76s 10s/step - loss: 0.4692 - accuracy: 0.7969 - val_loss: 0.9511 - val_accuracy: 0.7133\n",
            "Epoch 21/100\n",
            "8/8 [==============================] - 83s 11s/step - loss: 0.5164 - accuracy: 0.8242 - val_loss: 0.8671 - val_accuracy: 0.7267\n",
            "Epoch 22/100\n",
            "8/8 [==============================] - 79s 11s/step - loss: 0.3698 - accuracy: 0.8789 - val_loss: 0.8357 - val_accuracy: 0.7400\n",
            "Epoch 23/100\n",
            "8/8 [==============================] - 79s 10s/step - loss: 0.6448 - accuracy: 0.7734 - val_loss: 0.7900 - val_accuracy: 0.7267\n",
            "Epoch 24/100\n",
            "8/8 [==============================] - 75s 10s/step - loss: 0.5080 - accuracy: 0.7969 - val_loss: 1.0149 - val_accuracy: 0.7267\n",
            "Epoch 25/100\n",
            "8/8 [==============================] - 77s 10s/step - loss: 0.5735 - accuracy: 0.7812 - val_loss: 1.0140 - val_accuracy: 0.7133\n",
            "Epoch 26/100\n",
            "8/8 [==============================] - 81s 11s/step - loss: 0.3967 - accuracy: 0.8281 - val_loss: 0.9675 - val_accuracy: 0.7133\n",
            "Epoch 27/100\n",
            "8/8 [==============================] - 78s 10s/step - loss: 0.4327 - accuracy: 0.8086 - val_loss: 1.0554 - val_accuracy: 0.7267\n",
            "Epoch 28/100\n",
            "8/8 [==============================] - 84s 11s/step - loss: 0.4193 - accuracy: 0.8359 - val_loss: 0.8219 - val_accuracy: 0.7333\n",
            "Epoch 29/100\n",
            "8/8 [==============================] - 86s 11s/step - loss: 0.4252 - accuracy: 0.8164 - val_loss: 0.7526 - val_accuracy: 0.7133\n",
            "Epoch 30/100\n",
            "8/8 [==============================] - 80s 10s/step - loss: 0.6229 - accuracy: 0.7578 - val_loss: 0.9906 - val_accuracy: 0.7067\n",
            "Epoch 31/100\n",
            "8/8 [==============================] - 77s 10s/step - loss: 0.5508 - accuracy: 0.8086 - val_loss: 0.8633 - val_accuracy: 0.7000\n",
            "Epoch 32/100\n",
            "8/8 [==============================] - 80s 11s/step - loss: 0.4120 - accuracy: 0.8242 - val_loss: 1.0430 - val_accuracy: 0.7067\n",
            "Epoch 33/100\n",
            "8/8 [==============================] - 79s 11s/step - loss: 0.3358 - accuracy: 0.8594 - val_loss: 1.0482 - val_accuracy: 0.7000\n",
            "Epoch 34/100\n",
            "8/8 [==============================] - 79s 11s/step - loss: 0.4112 - accuracy: 0.8438 - val_loss: 0.8233 - val_accuracy: 0.7133\n",
            "Epoch 35/100\n",
            "8/8 [==============================] - 77s 10s/step - loss: 0.3665 - accuracy: 0.8555 - val_loss: 1.0566 - val_accuracy: 0.7067\n",
            "Epoch 36/100\n",
            "8/8 [==============================] - 78s 10s/step - loss: 0.4620 - accuracy: 0.8320 - val_loss: 0.9916 - val_accuracy: 0.6867\n",
            "Epoch 37/100\n",
            "8/8 [==============================] - 76s 10s/step - loss: 0.3617 - accuracy: 0.8594 - val_loss: 0.8517 - val_accuracy: 0.7133\n",
            "Epoch 38/100\n",
            "8/8 [==============================] - 75s 10s/step - loss: 0.3994 - accuracy: 0.8320 - val_loss: 0.8130 - val_accuracy: 0.7067\n",
            "Epoch 39/100\n",
            "8/8 [==============================] - 75s 10s/step - loss: 0.3235 - accuracy: 0.8398 - val_loss: 0.8471 - val_accuracy: 0.7067\n",
            "Epoch 40/100\n",
            "8/8 [==============================] - 78s 10s/step - loss: 0.3161 - accuracy: 0.8750 - val_loss: 0.9733 - val_accuracy: 0.7000\n",
            "Epoch 41/100\n",
            "8/8 [==============================] - 76s 10s/step - loss: 0.3213 - accuracy: 0.8906 - val_loss: 0.8135 - val_accuracy: 0.7000\n",
            "Epoch 42/100\n",
            "8/8 [==============================] - 77s 10s/step - loss: 0.3689 - accuracy: 0.8594 - val_loss: 0.7705 - val_accuracy: 0.7400\n",
            "Epoch 43/100\n",
            "8/8 [==============================] - 76s 10s/step - loss: 0.3527 - accuracy: 0.8672 - val_loss: 0.9386 - val_accuracy: 0.7000\n",
            "Epoch 44/100\n",
            "8/8 [==============================] - 75s 10s/step - loss: 0.3130 - accuracy: 0.8583 - val_loss: 0.9394 - val_accuracy: 0.7200\n",
            "Epoch 45/100\n",
            "8/8 [==============================] - 77s 10s/step - loss: 0.4436 - accuracy: 0.8594 - val_loss: 0.8393 - val_accuracy: 0.7067\n",
            "Epoch 46/100\n",
            "8/8 [==============================] - 82s 11s/step - loss: 0.3833 - accuracy: 0.8750 - val_loss: 1.0896 - val_accuracy: 0.7267\n",
            "Epoch 47/100\n",
            "8/8 [==============================] - 78s 10s/step - loss: 0.3122 - accuracy: 0.8594 - val_loss: 1.0261 - val_accuracy: 0.6800\n",
            "Epoch 48/100\n",
            "8/8 [==============================] - 81s 11s/step - loss: 0.3748 - accuracy: 0.8633 - val_loss: 0.8868 - val_accuracy: 0.6933\n",
            "Epoch 49/100\n",
            "8/8 [==============================] - 75s 10s/step - loss: 0.4634 - accuracy: 0.8281 - val_loss: 0.7680 - val_accuracy: 0.7267\n",
            "Epoch 50/100\n",
            "8/8 [==============================] - 77s 10s/step - loss: 0.4364 - accuracy: 0.8320 - val_loss: 0.9013 - val_accuracy: 0.6400\n",
            "Epoch 51/100\n",
            "8/8 [==============================] - 77s 10s/step - loss: 0.4361 - accuracy: 0.8125 - val_loss: 0.9732 - val_accuracy: 0.6733\n",
            "Epoch 52/100\n",
            "8/8 [==============================] - 81s 11s/step - loss: 0.3023 - accuracy: 0.8789 - val_loss: 0.9047 - val_accuracy: 0.7067\n",
            "Epoch 53/100\n",
            "8/8 [==============================] - 74s 10s/step - loss: 0.2956 - accuracy: 0.8750 - val_loss: 0.8807 - val_accuracy: 0.7200\n",
            "Epoch 54/100\n",
            "8/8 [==============================] - 81s 11s/step - loss: 0.2875 - accuracy: 0.8828 - val_loss: 0.9403 - val_accuracy: 0.6800\n",
            "Epoch 55/100\n",
            "8/8 [==============================] - 80s 10s/step - loss: 0.3818 - accuracy: 0.8203 - val_loss: 0.9281 - val_accuracy: 0.6867\n",
            "Epoch 56/100\n",
            "8/8 [==============================] - 76s 10s/step - loss: 0.3245 - accuracy: 0.8828 - val_loss: 0.9423 - val_accuracy: 0.7533\n",
            "Epoch 57/100\n",
            "8/8 [==============================] - 75s 10s/step - loss: 0.2865 - accuracy: 0.8789 - val_loss: 0.8520 - val_accuracy: 0.6800\n",
            "Epoch 58/100\n",
            "8/8 [==============================] - 79s 11s/step - loss: 0.2432 - accuracy: 0.9023 - val_loss: 0.8977 - val_accuracy: 0.7200\n",
            "Epoch 59/100\n",
            "8/8 [==============================] - 76s 10s/step - loss: 0.2349 - accuracy: 0.9180 - val_loss: 0.9948 - val_accuracy: 0.6800\n",
            "Epoch 60/100\n",
            "8/8 [==============================] - 78s 11s/step - loss: 0.2955 - accuracy: 0.8828 - val_loss: 1.0289 - val_accuracy: 0.7400\n",
            "Epoch 61/100\n",
            "8/8 [==============================] - 79s 11s/step - loss: 0.3085 - accuracy: 0.8750 - val_loss: 1.0905 - val_accuracy: 0.6667\n",
            "Epoch 62/100\n",
            "8/8 [==============================] - 75s 10s/step - loss: 0.3012 - accuracy: 0.8945 - val_loss: 0.9784 - val_accuracy: 0.7267\n",
            "Epoch 63/100\n",
            "8/8 [==============================] - 80s 11s/step - loss: 0.3663 - accuracy: 0.8594 - val_loss: 0.8949 - val_accuracy: 0.6533\n",
            "Epoch 64/100\n",
            "8/8 [==============================] - 82s 11s/step - loss: 0.3593 - accuracy: 0.8594 - val_loss: 0.7931 - val_accuracy: 0.7067\n",
            "Epoch 65/100\n",
            "8/8 [==============================] - 81s 11s/step - loss: 0.2412 - accuracy: 0.9258 - val_loss: 1.1717 - val_accuracy: 0.7067\n",
            "Epoch 66/100\n",
            "8/8 [==============================] - 79s 10s/step - loss: 0.2408 - accuracy: 0.9062 - val_loss: 1.1158 - val_accuracy: 0.7000\n",
            "Epoch 67/100\n",
            "8/8 [==============================] - 77s 11s/step - loss: 0.2353 - accuracy: 0.9102 - val_loss: 0.9588 - val_accuracy: 0.6733\n",
            "Epoch 68/100\n",
            "8/8 [==============================] - 77s 10s/step - loss: 0.2341 - accuracy: 0.9180 - val_loss: 0.8402 - val_accuracy: 0.7000\n",
            "Epoch 69/100\n",
            "8/8 [==============================] - 82s 11s/step - loss: 0.2246 - accuracy: 0.9141 - val_loss: 0.7658 - val_accuracy: 0.7067\n",
            "Epoch 70/100\n",
            "8/8 [==============================] - 86s 12s/step - loss: 0.2390 - accuracy: 0.9102 - val_loss: 1.0595 - val_accuracy: 0.7467\n",
            "Epoch 71/100\n",
            "8/8 [==============================] - 76s 10s/step - loss: 0.3017 - accuracy: 0.8945 - val_loss: 0.8710 - val_accuracy: 0.6933\n",
            "Epoch 72/100\n",
            "8/8 [==============================] - 78s 10s/step - loss: 0.2186 - accuracy: 0.9258 - val_loss: 0.8300 - val_accuracy: 0.7333\n",
            "Epoch 73/100\n",
            "8/8 [==============================] - 81s 11s/step - loss: 0.1835 - accuracy: 0.9297 - val_loss: 0.8935 - val_accuracy: 0.6933\n",
            "Epoch 74/100\n",
            "8/8 [==============================] - 77s 10s/step - loss: 0.2287 - accuracy: 0.9258 - val_loss: 0.8788 - val_accuracy: 0.7267\n",
            "Epoch 75/100\n",
            "8/8 [==============================] - 81s 11s/step - loss: 0.1658 - accuracy: 0.9414 - val_loss: 0.9187 - val_accuracy: 0.7067\n",
            "Epoch 76/100\n",
            "8/8 [==============================] - 79s 10s/step - loss: 0.2385 - accuracy: 0.9102 - val_loss: 0.9007 - val_accuracy: 0.7067\n",
            "Epoch 77/100\n",
            "8/8 [==============================] - 82s 11s/step - loss: 0.2359 - accuracy: 0.9023 - val_loss: 0.9394 - val_accuracy: 0.6867\n",
            "Epoch 78/100\n",
            "8/8 [==============================] - 85s 11s/step - loss: 0.2328 - accuracy: 0.8984 - val_loss: 0.8696 - val_accuracy: 0.7333\n",
            "Epoch 79/100\n",
            "8/8 [==============================] - 78s 11s/step - loss: 0.2869 - accuracy: 0.8906 - val_loss: 1.0222 - val_accuracy: 0.7267\n",
            "Epoch 80/100\n",
            "8/8 [==============================] - 80s 11s/step - loss: 0.1809 - accuracy: 0.9258 - val_loss: 1.0106 - val_accuracy: 0.6867\n",
            "Epoch 81/100\n",
            "8/8 [==============================] - 83s 11s/step - loss: 0.2592 - accuracy: 0.8789 - val_loss: 0.9461 - val_accuracy: 0.6867\n",
            "Epoch 82/100\n",
            "8/8 [==============================] - 74s 10s/step - loss: 0.2429 - accuracy: 0.9062 - val_loss: 1.0444 - val_accuracy: 0.7133\n",
            "Epoch 83/100\n",
            "8/8 [==============================] - 79s 11s/step - loss: 0.2821 - accuracy: 0.8945 - val_loss: 0.8773 - val_accuracy: 0.7467\n",
            "Epoch 84/100\n",
            "8/8 [==============================] - 80s 11s/step - loss: 0.2872 - accuracy: 0.8828 - val_loss: 0.9606 - val_accuracy: 0.6867\n",
            "Epoch 85/100\n",
            "8/8 [==============================] - 80s 11s/step - loss: 0.2155 - accuracy: 0.9250 - val_loss: 1.1866 - val_accuracy: 0.6733\n",
            "Epoch 86/100\n",
            "8/8 [==============================] - 78s 10s/step - loss: 0.2675 - accuracy: 0.9062 - val_loss: 1.0124 - val_accuracy: 0.7000\n",
            "Epoch 87/100\n",
            "8/8 [==============================] - 78s 11s/step - loss: 0.1801 - accuracy: 0.9375 - val_loss: 1.0580 - val_accuracy: 0.7067\n",
            "Epoch 88/100\n",
            "8/8 [==============================] - 80s 11s/step - loss: 0.2409 - accuracy: 0.9023 - val_loss: 1.1197 - val_accuracy: 0.6933\n",
            "Epoch 89/100\n",
            "8/8 [==============================] - 83s 11s/step - loss: 0.2131 - accuracy: 0.9219 - val_loss: 1.0168 - val_accuracy: 0.7133\n",
            "Epoch 90/100\n",
            "8/8 [==============================] - 79s 11s/step - loss: 0.1810 - accuracy: 0.9531 - val_loss: 1.1642 - val_accuracy: 0.7133\n",
            "Epoch 91/100\n",
            "8/8 [==============================] - 77s 11s/step - loss: 0.2440 - accuracy: 0.9023 - val_loss: 0.9509 - val_accuracy: 0.7067\n",
            "Epoch 92/100\n",
            "8/8 [==============================] - 80s 11s/step - loss: 0.2072 - accuracy: 0.9219 - val_loss: 0.9575 - val_accuracy: 0.7333\n",
            "Epoch 93/100\n",
            "8/8 [==============================] - 82s 11s/step - loss: 0.1979 - accuracy: 0.9219 - val_loss: 1.2127 - val_accuracy: 0.6733\n",
            "Epoch 94/100\n",
            "8/8 [==============================] - 77s 10s/step - loss: 0.1686 - accuracy: 0.9297 - val_loss: 0.9838 - val_accuracy: 0.7067\n",
            "Epoch 95/100\n",
            "8/8 [==============================] - 76s 10s/step - loss: 0.2100 - accuracy: 0.9258 - val_loss: 0.9277 - val_accuracy: 0.7200\n",
            "Epoch 96/100\n",
            "8/8 [==============================] - 77s 11s/step - loss: 0.1836 - accuracy: 0.9297 - val_loss: 0.8975 - val_accuracy: 0.7333\n",
            "Epoch 97/100\n",
            "8/8 [==============================] - 84s 11s/step - loss: 0.2074 - accuracy: 0.9062 - val_loss: 0.8615 - val_accuracy: 0.7333\n",
            "Epoch 98/100\n",
            "8/8 [==============================] - 79s 10s/step - loss: 0.2034 - accuracy: 0.9292 - val_loss: 1.1268 - val_accuracy: 0.7000\n",
            "Epoch 99/100\n",
            "8/8 [==============================] - 81s 11s/step - loss: 0.2594 - accuracy: 0.9141 - val_loss: 0.9691 - val_accuracy: 0.6867\n",
            "Epoch 100/100\n",
            "8/8 [==============================] - 77s 10s/step - loss: 0.2103 - accuracy: 0.9180 - val_loss: 1.3460 - val_accuracy: 0.6867\n"
          ]
        }
      ]
    },
    {
      "cell_type": "code",
      "source": [
        "# TULIS CODE UNTUK MENCETAK LAMA TRAINING TIME DISINI\n",
        "print(\"waktu = \", time.time() - start, \"detik\")"
      ],
      "metadata": {
        "colab": {
          "base_uri": "https://localhost:8080/"
        },
        "id": "cGWLYNLSPNZW",
        "outputId": "343492d9-dcb8-4913-d336-792c067fe3ef"
      },
      "execution_count": 34,
      "outputs": [
        {
          "output_type": "stream",
          "name": "stdout",
          "text": [
            "waktu =  8412.134818553925 detik\n"
          ]
        }
      ]
    },
    {
      "cell_type": "code",
      "source": [
        "import matplotlib.pyplot as plt\n",
        "%matplotlib inline\n",
        "\n",
        "plt.style.use(\"ggplot\")\n",
        "plt.figure(figsize=(12,7))\n",
        "plt.plot(history.history[\"loss\"], label=\"train_loss\")\n",
        "plt.plot(history.history[\"val_loss\"], label=\"val_loss\")\n",
        "plt.title(\"Loss Plot\")\n",
        "plt.xlabel(\"Epoch #\")\n",
        "plt.ylabel(\"Loss\")\n",
        "plt.legend()\n",
        "plt.show()\n",
        "\n",
        "plt.style.use(\"ggplot\")\n",
        "plt.figure(figsize=(12,7))\n",
        "plt.plot(history.history[\"accuracy\"], label=\"train_acc\")\n",
        "plt.plot(history.history[\"val_accuracy\"], label=\"val_acc\")\n",
        "plt.title(\"Accuracy Plot\")\n",
        "plt.xlabel(\"Epoch #\")\n",
        "plt.ylabel(\"Acc\")\n",
        "plt.legend()\n",
        "plt.show()"
      ],
      "metadata": {
        "colab": {
          "base_uri": "https://localhost:8080/",
          "height": 907
        },
        "id": "KbDQrcdsPP9B",
        "outputId": "3c70b629-2351-41f7-c384-985aaf9db0d7"
      },
      "execution_count": 35,
      "outputs": [
        {
          "output_type": "display_data",
          "data": {
            "image/png": "[encoded data removed]",
            "text/plain": [
              "<Figure size 864x504 with 1 Axes>"
            ]
          },
          "metadata": {}
        },
        {
          "output_type": "display_data",
          "data": {
            "image/png": "[encoded data removed]",
            "text/plain": [
              "<Figure size 864x504 with 1 Axes>"
            ]
          },
          "metadata": {}
        }
      ]
    },
    {
      "cell_type": "code",
      "source": [
        "score = model_1.evaluate(test_generator)\n",
        "\n",
        "print('Loss: {:.2f}'.format(score[0]))\n",
        "print('Accuracy: {:.2f}'.format(score[1]))"
      ],
      "metadata": {
        "colab": {
          "base_uri": "https://localhost:8080/"
        },
        "id": "q-s8OgEzPWfO",
        "outputId": "e2453545-aa85-4f2a-92ef-711e4b57b34d"
      },
      "execution_count": 36,
      "outputs": [
        {
          "output_type": "stream",
          "name": "stdout",
          "text": [
            "19/19 [==============================] - 247s 13s/step - loss: 1.3136 - accuracy: 0.6783\n",
            "Loss: 1.31\n",
            "Accuracy: 0.68\n"
          ]
        }
      ]
    },
    {
      "cell_type": "code",
      "source": [
        "#from sklearn.metrics import classification_report\n",
        "\n",
        "#pred = model_1.predict(train_generator)\n",
        "#labels = (pred > 0.5).astype(np.int)\n",
        "\n",
        "#print(classification_report(val_generator, labels))"
      ],
      "metadata": {
        "id": "pgb64Wg7PWi1"
      },
      "execution_count": null,
      "outputs": []
    },
    {
      "cell_type": "code",
      "source": [
        "from keras.models import save_model\n",
        "model_1 = save_model(model_1,'MobileNet.h5')"
      ],
      "metadata": {
        "colab": {
          "base_uri": "https://localhost:8080/"
        },
        "id": "_txO6CBUUvje",
        "outputId": "3f4ff45c-e261-4a0a-8c6f-4efa16090522"
      },
      "execution_count": 37,
      "outputs": [
        {
          "output_type": "stream",
          "name": "stderr",
          "text": [
            "/usr/local/lib/python3.7/dist-packages/keras/engine/functional.py:1410: CustomMaskWarning: Custom mask layers require a config and must override get_config. When loading, the custom mask layer must be passed to the custom_objects argument.\n",
            "  layer_config = serialize_layer_fn(layer)\n"
          ]
        }
      ]
    },
    {
      "cell_type": "code",
      "source": [
        "tflite_model = tf.keras.models.load_model('MobileNet.h5')\n",
        "converter = tf.lite.TFLiteConverter.from_keras_model(tflite_model)\n",
        "tflite_save = converter.convert()\n",
        "open(\"MobileNet.tflite\", \"wb\").write(tflite_save)"
      ],
      "metadata": {
        "colab": {
          "base_uri": "https://localhost:8080/"
        },
        "id": "LoGP3_InPWmO",
        "outputId": "f60b906b-2c1b-42d7-9568-61ec4c07adf0"
      },
      "execution_count": 38,
      "outputs": [
        {
          "output_type": "stream",
          "name": "stdout",
          "text": [
            "INFO:tensorflow:Assets written to: /tmp/tmp_yhhgyc3/assets\n"
          ]
        },
        {
          "output_type": "stream",
          "name": "stderr",
          "text": [
            "WARNING:absl:Buffer deduplication procedure will be skipped when flatbuffer library is not properly loaded\n"
          ]
        },
        {
          "output_type": "execute_result",
          "data": {
            "text/plain": [
              "79506952"
            ]
          },
          "metadata": {},
          "execution_count": 38
        }
      ]
    },
    {
      "cell_type": "code",
      "source": [
        "model_json = model_1.to_json()\n",
        "with open(\"MobileNet.json\", \"w\") as json_file:\n",
        "    json_file.write(model_json)"
      ],
      "metadata": {
        "id": "35PxlspJQFXP",
        "colab": {
          "base_uri": "https://localhost:8080/"
        },
        "outputId": "e51139f9-6acf-4495-b58a-3552c75dcb85"
      },
      "execution_count": 48,
      "outputs": [
        {
          "output_type": "stream",
          "name": "stderr",
          "text": [
            "/usr/local/lib/python3.7/dist-packages/keras/engine/functional.py:1410: CustomMaskWarning: Custom mask layers require a config and must override get_config. When loading, the custom mask layer must be passed to the custom_objects argument.\n",
            "  layer_config = serialize_layer_fn(layer)\n"
          ]
        }
      ]
    },
    {
      "cell_type": "markdown",
      "source": [
        "model 2"
      ],
      "metadata": {
        "id": "gphehzSIicNP"
      }
    },
    {
      "cell_type": "code",
      "source": [
        ""
      ],
      "metadata": {
        "id": "sBCiB6kV_7Xj"
      },
      "execution_count": null,
      "outputs": []
    },
    {
      "cell_type": "code",
      "source": [
        ""
      ],
      "metadata": {
        "id": "XWkgw0pT_7aD"
      },
      "execution_count": null,
      "outputs": []
    },
    {
      "cell_type": "code",
      "source": [
        "class Combin1:\n",
        "  def build(model_1,classes):\n",
        "\n",
        "    input = Input(shape=(224,224,3))\n",
        "    headModel = model_1.output\n",
        "    headModel = Flatten(name=\"flatten\")(headModel)\n",
        "    headModel = Dense(512, activation='relu')(headModel)\n",
        "    headModel = Dense(64, activation='relu')(headModel)\n",
        "    headModel = Dense(3, activation='softmax')(headModel)\n",
        "    return headModel"
      ],
      "metadata": {
        "id": "uaQmRP_RUsYQ"
      },
      "execution_count": 63,
      "outputs": []
    },
    {
      "cell_type": "code",
      "source": [
        "headModel2 = Combin1.build(model_2, 1)\n",
        "model2 =Model(inputs=model_2.input, outputs=headModel2)"
      ],
      "metadata": {
        "id": "9D8OxmTLUsbO"
      },
      "execution_count": 64,
      "outputs": []
    },
    {
      "cell_type": "code",
      "source": [
        "for layer in model_2.layers:\n",
        "  layer.trainable = False"
      ],
      "metadata": {
        "id": "sjaW7dcLUsdl"
      },
      "execution_count": 65,
      "outputs": []
    },
    {
      "cell_type": "code",
      "source": [
        "model2.summary()"
      ],
      "metadata": {
        "id": "rmzvN5w1UsgS",
        "colab": {
          "base_uri": "https://localhost:8080/"
        },
        "outputId": "1b2447e0-2599-405a-ea21-5d6be76f623d"
      },
      "execution_count": 66,
      "outputs": [
        {
          "output_type": "stream",
          "name": "stdout",
          "text": [
            "Model: \"model_3\"\n",
            "__________________________________________________________________________________________________\n",
            " Layer (type)                   Output Shape         Param #     Connected to                     \n",
            "==================================================================================================\n",
            " input_6 (InputLayer)           [(None, 224, 224, 3  0           []                               \n",
            "                                )]                                                                \n",
            "                                                                                                  \n",
            " conv1_pad (ZeroPadding2D)      (None, 230, 230, 3)  0           ['input_6[0][0]']                \n",
            "                                                                                                  \n",
            " conv1_conv (Conv2D)            (None, 112, 112, 64  9472        ['conv1_pad[0][0]']              \n",
            "                                )                                                                 \n",
            "                                                                                                  \n",
            " pool1_pad (ZeroPadding2D)      (None, 114, 114, 64  0           ['conv1_conv[0][0]']             \n",
            "                                )                                                                 \n",
            "                                                                                                  \n",
            " pool1_pool (MaxPooling2D)      (None, 56, 56, 64)   0           ['pool1_pad[0][0]']              \n",
            "                                                                                                  \n",
            " conv2_block1_preact_bn (BatchN  (None, 56, 56, 64)  256         ['pool1_pool[0][0]']             \n",
            " ormalization)                                                                                    \n",
            "                                                                                                  \n",
            " conv2_block1_preact_relu (Acti  (None, 56, 56, 64)  0           ['conv2_block1_preact_bn[0][0]'] \n",
            " vation)                                                                                          \n",
            "                                                                                                  \n",
            " conv2_block1_1_conv (Conv2D)   (None, 56, 56, 64)   4096        ['conv2_block1_preact_relu[0][0]'\n",
            "                                                                 ]                                \n",
            "                                                                                                  \n",
            " conv2_block1_1_bn (BatchNormal  (None, 56, 56, 64)  256         ['conv2_block1_1_conv[0][0]']    \n",
            " ization)                                                                                         \n",
            "                                                                                                  \n",
            " conv2_block1_1_relu (Activatio  (None, 56, 56, 64)  0           ['conv2_block1_1_bn[0][0]']      \n",
            " n)                                                                                               \n",
            "                                                                                                  \n",
            " conv2_block1_2_pad (ZeroPaddin  (None, 58, 58, 64)  0           ['conv2_block1_1_relu[0][0]']    \n",
            " g2D)                                                                                             \n",
            "                                                                                                  \n",
            " conv2_block1_2_conv (Conv2D)   (None, 56, 56, 64)   36864       ['conv2_block1_2_pad[0][0]']     \n",
            "                                                                                                  \n",
            " conv2_block1_2_bn (BatchNormal  (None, 56, 56, 64)  256         ['conv2_block1_2_conv[0][0]']    \n",
            " ization)                                                                                         \n",
            "                                                                                                  \n",
            " conv2_block1_2_relu (Activatio  (None, 56, 56, 64)  0           ['conv2_block1_2_bn[0][0]']      \n",
            " n)                                                                                               \n",
            "                                                                                                  \n",
            " conv2_block1_0_conv (Conv2D)   (None, 56, 56, 256)  16640       ['conv2_block1_preact_relu[0][0]'\n",
            "                                                                 ]                                \n",
            "                                                                                                  \n",
            " conv2_block1_3_conv (Conv2D)   (None, 56, 56, 256)  16640       ['conv2_block1_2_relu[0][0]']    \n",
            "                                                                                                  \n",
            " conv2_block1_out (Add)         (None, 56, 56, 256)  0           ['conv2_block1_0_conv[0][0]',    \n",
            "                                                                  'conv2_block1_3_conv[0][0]']    \n",
            "                                                                                                  \n",
            " conv2_block2_preact_bn (BatchN  (None, 56, 56, 256)  1024       ['conv2_block1_out[0][0]']       \n",
            " ormalization)                                                                                    \n",
            "                                                                                                  \n",
            " conv2_block2_preact_relu (Acti  (None, 56, 56, 256)  0          ['conv2_block2_preact_bn[0][0]'] \n",
            " vation)                                                                                          \n",
            "                                                                                                  \n",
            " conv2_block2_1_conv (Conv2D)   (None, 56, 56, 64)   16384       ['conv2_block2_preact_relu[0][0]'\n",
            "                                                                 ]                                \n",
            "                                                                                                  \n",
            " conv2_block2_1_bn (BatchNormal  (None, 56, 56, 64)  256         ['conv2_block2_1_conv[0][0]']    \n",
            " ization)                                                                                         \n",
            "                                                                                                  \n",
            " conv2_block2_1_relu (Activatio  (None, 56, 56, 64)  0           ['conv2_block2_1_bn[0][0]']      \n",
            " n)                                                                                               \n",
            "                                                                                                  \n",
            " conv2_block2_2_pad (ZeroPaddin  (None, 58, 58, 64)  0           ['conv2_block2_1_relu[0][0]']    \n",
            " g2D)                                                                                             \n",
            "                                                                                                  \n",
            " conv2_block2_2_conv (Conv2D)   (None, 56, 56, 64)   36864       ['conv2_block2_2_pad[0][0]']     \n",
            "                                                                                                  \n",
            " conv2_block2_2_bn (BatchNormal  (None, 56, 56, 64)  256         ['conv2_block2_2_conv[0][0]']    \n",
            " ization)                                                                                         \n",
            "                                                                                                  \n",
            " conv2_block2_2_relu (Activatio  (None, 56, 56, 64)  0           ['conv2_block2_2_bn[0][0]']      \n",
            " n)                                                                                               \n",
            "                                                                                                  \n",
            " conv2_block2_3_conv (Conv2D)   (None, 56, 56, 256)  16640       ['conv2_block2_2_relu[0][0]']    \n",
            "                                                                                                  \n",
            " conv2_block2_out (Add)         (None, 56, 56, 256)  0           ['conv2_block1_out[0][0]',       \n",
            "                                                                  'conv2_block2_3_conv[0][0]']    \n",
            "                                                                                                  \n",
            " conv2_block3_preact_bn (BatchN  (None, 56, 56, 256)  1024       ['conv2_block2_out[0][0]']       \n",
            " ormalization)                                                                                    \n",
            "                                                                                                  \n",
            " conv2_block3_preact_relu (Acti  (None, 56, 56, 256)  0          ['conv2_block3_preact_bn[0][0]'] \n",
            " vation)                                                                                          \n",
            "                                                                                                  \n",
            " conv2_block3_1_conv (Conv2D)   (None, 56, 56, 64)   16384       ['conv2_block3_preact_relu[0][0]'\n",
            "                                                                 ]                                \n",
            "                                                                                                  \n",
            " conv2_block3_1_bn (BatchNormal  (None, 56, 56, 64)  256         ['conv2_block3_1_conv[0][0]']    \n",
            " ization)                                                                                         \n",
            "                                                                                                  \n",
            " conv2_block3_1_relu (Activatio  (None, 56, 56, 64)  0           ['conv2_block3_1_bn[0][0]']      \n",
            " n)                                                                                               \n",
            "                                                                                                  \n",
            " conv2_block3_2_pad (ZeroPaddin  (None, 58, 58, 64)  0           ['conv2_block3_1_relu[0][0]']    \n",
            " g2D)                                                                                             \n",
            "                                                                                                  \n",
            " conv2_block3_2_conv (Conv2D)   (None, 28, 28, 64)   36864       ['conv2_block3_2_pad[0][0]']     \n",
            "                                                                                                  \n",
            " conv2_block3_2_bn (BatchNormal  (None, 28, 28, 64)  256         ['conv2_block3_2_conv[0][0]']    \n",
            " ization)                                                                                         \n",
            "                                                                                                  \n",
            " conv2_block3_2_relu (Activatio  (None, 28, 28, 64)  0           ['conv2_block3_2_bn[0][0]']      \n",
            " n)                                                                                               \n",
            "                                                                                                  \n",
            " max_pooling2d_6 (MaxPooling2D)  (None, 28, 28, 256)  0          ['conv2_block2_out[0][0]']       \n",
            "                                                                                                  \n",
            " conv2_block3_3_conv (Conv2D)   (None, 28, 28, 256)  16640       ['conv2_block3_2_relu[0][0]']    \n",
            "                                                                                                  \n",
            " conv2_block3_out (Add)         (None, 28, 28, 256)  0           ['max_pooling2d_6[0][0]',        \n",
            "                                                                  'conv2_block3_3_conv[0][0]']    \n",
            "                                                                                                  \n",
            " conv3_block1_preact_bn (BatchN  (None, 28, 28, 256)  1024       ['conv2_block3_out[0][0]']       \n",
            " ormalization)                                                                                    \n",
            "                                                                                                  \n",
            " conv3_block1_preact_relu (Acti  (None, 28, 28, 256)  0          ['conv3_block1_preact_bn[0][0]'] \n",
            " vation)                                                                                          \n",
            "                                                                                                  \n",
            " conv3_block1_1_conv (Conv2D)   (None, 28, 28, 128)  32768       ['conv3_block1_preact_relu[0][0]'\n",
            "                                                                 ]                                \n",
            "                                                                                                  \n",
            " conv3_block1_1_bn (BatchNormal  (None, 28, 28, 128)  512        ['conv3_block1_1_conv[0][0]']    \n",
            " ization)                                                                                         \n",
            "                                                                                                  \n",
            " conv3_block1_1_relu (Activatio  (None, 28, 28, 128)  0          ['conv3_block1_1_bn[0][0]']      \n",
            " n)                                                                                               \n",
            "                                                                                                  \n",
            " conv3_block1_2_pad (ZeroPaddin  (None, 30, 30, 128)  0          ['conv3_block1_1_relu[0][0]']    \n",
            " g2D)                                                                                             \n",
            "                                                                                                  \n",
            " conv3_block1_2_conv (Conv2D)   (None, 28, 28, 128)  147456      ['conv3_block1_2_pad[0][0]']     \n",
            "                                                                                                  \n",
            " conv3_block1_2_bn (BatchNormal  (None, 28, 28, 128)  512        ['conv3_block1_2_conv[0][0]']    \n",
            " ization)                                                                                         \n",
            "                                                                                                  \n",
            " conv3_block1_2_relu (Activatio  (None, 28, 28, 128)  0          ['conv3_block1_2_bn[0][0]']      \n",
            " n)                                                                                               \n",
            "                                                                                                  \n",
            " conv3_block1_0_conv (Conv2D)   (None, 28, 28, 512)  131584      ['conv3_block1_preact_relu[0][0]'\n",
            "                                                                 ]                                \n",
            "                                                                                                  \n",
            " conv3_block1_3_conv (Conv2D)   (None, 28, 28, 512)  66048       ['conv3_block1_2_relu[0][0]']    \n",
            "                                                                                                  \n",
            " conv3_block1_out (Add)         (None, 28, 28, 512)  0           ['conv3_block1_0_conv[0][0]',    \n",
            "                                                                  'conv3_block1_3_conv[0][0]']    \n",
            "                                                                                                  \n",
            " conv3_block2_preact_bn (BatchN  (None, 28, 28, 512)  2048       ['conv3_block1_out[0][0]']       \n",
            " ormalization)                                                                                    \n",
            "                                                                                                  \n",
            " conv3_block2_preact_relu (Acti  (None, 28, 28, 512)  0          ['conv3_block2_preact_bn[0][0]'] \n",
            " vation)                                                                                          \n",
            "                                                                                                  \n",
            " conv3_block2_1_conv (Conv2D)   (None, 28, 28, 128)  65536       ['conv3_block2_preact_relu[0][0]'\n",
            "                                                                 ]                                \n",
            "                                                                                                  \n",
            " conv3_block2_1_bn (BatchNormal  (None, 28, 28, 128)  512        ['conv3_block2_1_conv[0][0]']    \n",
            " ization)                                                                                         \n",
            "                                                                                                  \n",
            " conv3_block2_1_relu (Activatio  (None, 28, 28, 128)  0          ['conv3_block2_1_bn[0][0]']      \n",
            " n)                                                                                               \n",
            "                                                                                                  \n",
            " conv3_block2_2_pad (ZeroPaddin  (None, 30, 30, 128)  0          ['conv3_block2_1_relu[0][0]']    \n",
            " g2D)                                                                                             \n",
            "                                                                                                  \n",
            " conv3_block2_2_conv (Conv2D)   (None, 28, 28, 128)  147456      ['conv3_block2_2_pad[0][0]']     \n",
            "                                                                                                  \n",
            " conv3_block2_2_bn (BatchNormal  (None, 28, 28, 128)  512        ['conv3_block2_2_conv[0][0]']    \n",
            " ization)                                                                                         \n",
            "                                                                                                  \n",
            " conv3_block2_2_relu (Activatio  (None, 28, 28, 128)  0          ['conv3_block2_2_bn[0][0]']      \n",
            " n)                                                                                               \n",
            "                                                                                                  \n",
            " conv3_block2_3_conv (Conv2D)   (None, 28, 28, 512)  66048       ['conv3_block2_2_relu[0][0]']    \n",
            "                                                                                                  \n",
            " conv3_block2_out (Add)         (None, 28, 28, 512)  0           ['conv3_block1_out[0][0]',       \n",
            "                                                                  'conv3_block2_3_conv[0][0]']    \n",
            "                                                                                                  \n",
            " conv3_block3_preact_bn (BatchN  (None, 28, 28, 512)  2048       ['conv3_block2_out[0][0]']       \n",
            " ormalization)                                                                                    \n",
            "                                                                                                  \n",
            " conv3_block3_preact_relu (Acti  (None, 28, 28, 512)  0          ['conv3_block3_preact_bn[0][0]'] \n",
            " vation)                                                                                          \n",
            "                                                                                                  \n",
            " conv3_block3_1_conv (Conv2D)   (None, 28, 28, 128)  65536       ['conv3_block3_preact_relu[0][0]'\n",
            "                                                                 ]                                \n",
            "                                                                                                  \n",
            " conv3_block3_1_bn (BatchNormal  (None, 28, 28, 128)  512        ['conv3_block3_1_conv[0][0]']    \n",
            " ization)                                                                                         \n",
            "                                                                                                  \n",
            " conv3_block3_1_relu (Activatio  (None, 28, 28, 128)  0          ['conv3_block3_1_bn[0][0]']      \n",
            " n)                                                                                               \n",
            "                                                                                                  \n",
            " conv3_block3_2_pad (ZeroPaddin  (None, 30, 30, 128)  0          ['conv3_block3_1_relu[0][0]']    \n",
            " g2D)                                                                                             \n",
            "                                                                                                  \n",
            " conv3_block3_2_conv (Conv2D)   (None, 28, 28, 128)  147456      ['conv3_block3_2_pad[0][0]']     \n",
            "                                                                                                  \n",
            " conv3_block3_2_bn (BatchNormal  (None, 28, 28, 128)  512        ['conv3_block3_2_conv[0][0]']    \n",
            " ization)                                                                                         \n",
            "                                                                                                  \n",
            " conv3_block3_2_relu (Activatio  (None, 28, 28, 128)  0          ['conv3_block3_2_bn[0][0]']      \n",
            " n)                                                                                               \n",
            "                                                                                                  \n",
            " conv3_block3_3_conv (Conv2D)   (None, 28, 28, 512)  66048       ['conv3_block3_2_relu[0][0]']    \n",
            "                                                                                                  \n",
            " conv3_block3_out (Add)         (None, 28, 28, 512)  0           ['conv3_block2_out[0][0]',       \n",
            "                                                                  'conv3_block3_3_conv[0][0]']    \n",
            "                                                                                                  \n",
            " conv3_block4_preact_bn (BatchN  (None, 28, 28, 512)  2048       ['conv3_block3_out[0][0]']       \n",
            " ormalization)                                                                                    \n",
            "                                                                                                  \n",
            " conv3_block4_preact_relu (Acti  (None, 28, 28, 512)  0          ['conv3_block4_preact_bn[0][0]'] \n",
            " vation)                                                                                          \n",
            "                                                                                                  \n",
            " conv3_block4_1_conv (Conv2D)   (None, 28, 28, 128)  65536       ['conv3_block4_preact_relu[0][0]'\n",
            "                                                                 ]                                \n",
            "                                                                                                  \n",
            " conv3_block4_1_bn (BatchNormal  (None, 28, 28, 128)  512        ['conv3_block4_1_conv[0][0]']    \n",
            " ization)                                                                                         \n",
            "                                                                                                  \n",
            " conv3_block4_1_relu (Activatio  (None, 28, 28, 128)  0          ['conv3_block4_1_bn[0][0]']      \n",
            " n)                                                                                               \n",
            "                                                                                                  \n",
            " conv3_block4_2_pad (ZeroPaddin  (None, 30, 30, 128)  0          ['conv3_block4_1_relu[0][0]']    \n",
            " g2D)                                                                                             \n",
            "                                                                                                  \n",
            " conv3_block4_2_conv (Conv2D)   (None, 14, 14, 128)  147456      ['conv3_block4_2_pad[0][0]']     \n",
            "                                                                                                  \n",
            " conv3_block4_2_bn (BatchNormal  (None, 14, 14, 128)  512        ['conv3_block4_2_conv[0][0]']    \n",
            " ization)                                                                                         \n",
            "                                                                                                  \n",
            " conv3_block4_2_relu (Activatio  (None, 14, 14, 128)  0          ['conv3_block4_2_bn[0][0]']      \n",
            " n)                                                                                               \n",
            "                                                                                                  \n",
            " max_pooling2d_7 (MaxPooling2D)  (None, 14, 14, 512)  0          ['conv3_block3_out[0][0]']       \n",
            "                                                                                                  \n",
            " conv3_block4_3_conv (Conv2D)   (None, 14, 14, 512)  66048       ['conv3_block4_2_relu[0][0]']    \n",
            "                                                                                                  \n",
            " conv3_block4_out (Add)         (None, 14, 14, 512)  0           ['max_pooling2d_7[0][0]',        \n",
            "                                                                  'conv3_block4_3_conv[0][0]']    \n",
            "                                                                                                  \n",
            " conv4_block1_preact_bn (BatchN  (None, 14, 14, 512)  2048       ['conv3_block4_out[0][0]']       \n",
            " ormalization)                                                                                    \n",
            "                                                                                                  \n",
            " conv4_block1_preact_relu (Acti  (None, 14, 14, 512)  0          ['conv4_block1_preact_bn[0][0]'] \n",
            " vation)                                                                                          \n",
            "                                                                                                  \n",
            " conv4_block1_1_conv (Conv2D)   (None, 14, 14, 256)  131072      ['conv4_block1_preact_relu[0][0]'\n",
            "                                                                 ]                                \n",
            "                                                                                                  \n",
            " conv4_block1_1_bn (BatchNormal  (None, 14, 14, 256)  1024       ['conv4_block1_1_conv[0][0]']    \n",
            " ization)                                                                                         \n",
            "                                                                                                  \n",
            " conv4_block1_1_relu (Activatio  (None, 14, 14, 256)  0          ['conv4_block1_1_bn[0][0]']      \n",
            " n)                                                                                               \n",
            "                                                                                                  \n",
            " conv4_block1_2_pad (ZeroPaddin  (None, 16, 16, 256)  0          ['conv4_block1_1_relu[0][0]']    \n",
            " g2D)                                                                                             \n",
            "                                                                                                  \n",
            " conv4_block1_2_conv (Conv2D)   (None, 14, 14, 256)  589824      ['conv4_block1_2_pad[0][0]']     \n",
            "                                                                                                  \n",
            " conv4_block1_2_bn (BatchNormal  (None, 14, 14, 256)  1024       ['conv4_block1_2_conv[0][0]']    \n",
            " ization)                                                                                         \n",
            "                                                                                                  \n",
            " conv4_block1_2_relu (Activatio  (None, 14, 14, 256)  0          ['conv4_block1_2_bn[0][0]']      \n",
            " n)                                                                                               \n",
            "                                                                                                  \n",
            " conv4_block1_0_conv (Conv2D)   (None, 14, 14, 1024  525312      ['conv4_block1_preact_relu[0][0]'\n",
            "                                )                                ]                                \n",
            "                                                                                                  \n",
            " conv4_block1_3_conv (Conv2D)   (None, 14, 14, 1024  263168      ['conv4_block1_2_relu[0][0]']    \n",
            "                                )                                                                 \n",
            "                                                                                                  \n",
            " conv4_block1_out (Add)         (None, 14, 14, 1024  0           ['conv4_block1_0_conv[0][0]',    \n",
            "                                )                                 'conv4_block1_3_conv[0][0]']    \n",
            "                                                                                                  \n",
            " conv4_block2_preact_bn (BatchN  (None, 14, 14, 1024  4096       ['conv4_block1_out[0][0]']       \n",
            " ormalization)                  )                                                                 \n",
            "                                                                                                  \n",
            " conv4_block2_preact_relu (Acti  (None, 14, 14, 1024  0          ['conv4_block2_preact_bn[0][0]'] \n",
            " vation)                        )                                                                 \n",
            "                                                                                                  \n",
            " conv4_block2_1_conv (Conv2D)   (None, 14, 14, 256)  262144      ['conv4_block2_preact_relu[0][0]'\n",
            "                                                                 ]                                \n",
            "                                                                                                  \n",
            " conv4_block2_1_bn (BatchNormal  (None, 14, 14, 256)  1024       ['conv4_block2_1_conv[0][0]']    \n",
            " ization)                                                                                         \n",
            "                                                                                                  \n",
            " conv4_block2_1_relu (Activatio  (None, 14, 14, 256)  0          ['conv4_block2_1_bn[0][0]']      \n",
            " n)                                                                                               \n",
            "                                                                                                  \n",
            " conv4_block2_2_pad (ZeroPaddin  (None, 16, 16, 256)  0          ['conv4_block2_1_relu[0][0]']    \n",
            " g2D)                                                                                             \n",
            "                                                                                                  \n",
            " conv4_block2_2_conv (Conv2D)   (None, 14, 14, 256)  589824      ['conv4_block2_2_pad[0][0]']     \n",
            "                                                                                                  \n",
            " conv4_block2_2_bn (BatchNormal  (None, 14, 14, 256)  1024       ['conv4_block2_2_conv[0][0]']    \n",
            " ization)                                                                                         \n",
            "                                                                                                  \n",
            " conv4_block2_2_relu (Activatio  (None, 14, 14, 256)  0          ['conv4_block2_2_bn[0][0]']      \n",
            " n)                                                                                               \n",
            "                                                                                                  \n",
            " conv4_block2_3_conv (Conv2D)   (None, 14, 14, 1024  263168      ['conv4_block2_2_relu[0][0]']    \n",
            "                                )                                                                 \n",
            "                                                                                                  \n",
            " conv4_block2_out (Add)         (None, 14, 14, 1024  0           ['conv4_block1_out[0][0]',       \n",
            "                                )                                 'conv4_block2_3_conv[0][0]']    \n",
            "                                                                                                  \n",
            " conv4_block3_preact_bn (BatchN  (None, 14, 14, 1024  4096       ['conv4_block2_out[0][0]']       \n",
            " ormalization)                  )                                                                 \n",
            "                                                                                                  \n",
            " conv4_block3_preact_relu (Acti  (None, 14, 14, 1024  0          ['conv4_block3_preact_bn[0][0]'] \n",
            " vation)                        )                                                                 \n",
            "                                                                                                  \n",
            " conv4_block3_1_conv (Conv2D)   (None, 14, 14, 256)  262144      ['conv4_block3_preact_relu[0][0]'\n",
            "                                                                 ]                                \n",
            "                                                                                                  \n",
            " conv4_block3_1_bn (BatchNormal  (None, 14, 14, 256)  1024       ['conv4_block3_1_conv[0][0]']    \n",
            " ization)                                                                                         \n",
            "                                                                                                  \n",
            " conv4_block3_1_relu (Activatio  (None, 14, 14, 256)  0          ['conv4_block3_1_bn[0][0]']      \n",
            " n)                                                                                               \n",
            "                                                                                                  \n",
            " conv4_block3_2_pad (ZeroPaddin  (None, 16, 16, 256)  0          ['conv4_block3_1_relu[0][0]']    \n",
            " g2D)                                                                                             \n",
            "                                                                                                  \n",
            " conv4_block3_2_conv (Conv2D)   (None, 14, 14, 256)  589824      ['conv4_block3_2_pad[0][0]']     \n",
            "                                                                                                  \n",
            " conv4_block3_2_bn (BatchNormal  (None, 14, 14, 256)  1024       ['conv4_block3_2_conv[0][0]']    \n",
            " ization)                                                                                         \n",
            "                                                                                                  \n",
            " conv4_block3_2_relu (Activatio  (None, 14, 14, 256)  0          ['conv4_block3_2_bn[0][0]']      \n",
            " n)                                                                                               \n",
            "                                                                                                  \n",
            " conv4_block3_3_conv (Conv2D)   (None, 14, 14, 1024  263168      ['conv4_block3_2_relu[0][0]']    \n",
            "                                )                                                                 \n",
            "                                                                                                  \n",
            " conv4_block3_out (Add)         (None, 14, 14, 1024  0           ['conv4_block2_out[0][0]',       \n",
            "                                )                                 'conv4_block3_3_conv[0][0]']    \n",
            "                                                                                                  \n",
            " conv4_block4_preact_bn (BatchN  (None, 14, 14, 1024  4096       ['conv4_block3_out[0][0]']       \n",
            " ormalization)                  )                                                                 \n",
            "                                                                                                  \n",
            " conv4_block4_preact_relu (Acti  (None, 14, 14, 1024  0          ['conv4_block4_preact_bn[0][0]'] \n",
            " vation)                        )                                                                 \n",
            "                                                                                                  \n",
            " conv4_block4_1_conv (Conv2D)   (None, 14, 14, 256)  262144      ['conv4_block4_preact_relu[0][0]'\n",
            "                                                                 ]                                \n",
            "                                                                                                  \n",
            " conv4_block4_1_bn (BatchNormal  (None, 14, 14, 256)  1024       ['conv4_block4_1_conv[0][0]']    \n",
            " ization)                                                                                         \n",
            "                                                                                                  \n",
            " conv4_block4_1_relu (Activatio  (None, 14, 14, 256)  0          ['conv4_block4_1_bn[0][0]']      \n",
            " n)                                                                                               \n",
            "                                                                                                  \n",
            " conv4_block4_2_pad (ZeroPaddin  (None, 16, 16, 256)  0          ['conv4_block4_1_relu[0][0]']    \n",
            " g2D)                                                                                             \n",
            "                                                                                                  \n",
            " conv4_block4_2_conv (Conv2D)   (None, 14, 14, 256)  589824      ['conv4_block4_2_pad[0][0]']     \n",
            "                                                                                                  \n",
            " conv4_block4_2_bn (BatchNormal  (None, 14, 14, 256)  1024       ['conv4_block4_2_conv[0][0]']    \n",
            " ization)                                                                                         \n",
            "                                                                                                  \n",
            " conv4_block4_2_relu (Activatio  (None, 14, 14, 256)  0          ['conv4_block4_2_bn[0][0]']      \n",
            " n)                                                                                               \n",
            "                                                                                                  \n",
            " conv4_block4_3_conv (Conv2D)   (None, 14, 14, 1024  263168      ['conv4_block4_2_relu[0][0]']    \n",
            "                                )                                                                 \n",
            "                                                                                                  \n",
            " conv4_block4_out (Add)         (None, 14, 14, 1024  0           ['conv4_block3_out[0][0]',       \n",
            "                                )                                 'conv4_block4_3_conv[0][0]']    \n",
            "                                                                                                  \n",
            " conv4_block5_preact_bn (BatchN  (None, 14, 14, 1024  4096       ['conv4_block4_out[0][0]']       \n",
            " ormalization)                  )                                                                 \n",
            "                                                                                                  \n",
            " conv4_block5_preact_relu (Acti  (None, 14, 14, 1024  0          ['conv4_block5_preact_bn[0][0]'] \n",
            " vation)                        )                                                                 \n",
            "                                                                                                  \n",
            " conv4_block5_1_conv (Conv2D)   (None, 14, 14, 256)  262144      ['conv4_block5_preact_relu[0][0]'\n",
            "                                                                 ]                                \n",
            "                                                                                                  \n",
            " conv4_block5_1_bn (BatchNormal  (None, 14, 14, 256)  1024       ['conv4_block5_1_conv[0][0]']    \n",
            " ization)                                                                                         \n",
            "                                                                                                  \n",
            " conv4_block5_1_relu (Activatio  (None, 14, 14, 256)  0          ['conv4_block5_1_bn[0][0]']      \n",
            " n)                                                                                               \n",
            "                                                                                                  \n",
            " conv4_block5_2_pad (ZeroPaddin  (None, 16, 16, 256)  0          ['conv4_block5_1_relu[0][0]']    \n",
            " g2D)                                                                                             \n",
            "                                                                                                  \n",
            " conv4_block5_2_conv (Conv2D)   (None, 14, 14, 256)  589824      ['conv4_block5_2_pad[0][0]']     \n",
            "                                                                                                  \n",
            " conv4_block5_2_bn (BatchNormal  (None, 14, 14, 256)  1024       ['conv4_block5_2_conv[0][0]']    \n",
            " ization)                                                                                         \n",
            "                                                                                                  \n",
            " conv4_block5_2_relu (Activatio  (None, 14, 14, 256)  0          ['conv4_block5_2_bn[0][0]']      \n",
            " n)                                                                                               \n",
            "                                                                                                  \n",
            " conv4_block5_3_conv (Conv2D)   (None, 14, 14, 1024  263168      ['conv4_block5_2_relu[0][0]']    \n",
            "                                )                                                                 \n",
            "                                                                                                  \n",
            " conv4_block5_out (Add)         (None, 14, 14, 1024  0           ['conv4_block4_out[0][0]',       \n",
            "                                )                                 'conv4_block5_3_conv[0][0]']    \n",
            "                                                                                                  \n",
            " conv4_block6_preact_bn (BatchN  (None, 14, 14, 1024  4096       ['conv4_block5_out[0][0]']       \n",
            " ormalization)                  )                                                                 \n",
            "                                                                                                  \n",
            " conv4_block6_preact_relu (Acti  (None, 14, 14, 1024  0          ['conv4_block6_preact_bn[0][0]'] \n",
            " vation)                        )                                                                 \n",
            "                                                                                                  \n",
            " conv4_block6_1_conv (Conv2D)   (None, 14, 14, 256)  262144      ['conv4_block6_preact_relu[0][0]'\n",
            "                                                                 ]                                \n",
            "                                                                                                  \n",
            " conv4_block6_1_bn (BatchNormal  (None, 14, 14, 256)  1024       ['conv4_block6_1_conv[0][0]']    \n",
            " ization)                                                                                         \n",
            "                                                                                                  \n",
            " conv4_block6_1_relu (Activatio  (None, 14, 14, 256)  0          ['conv4_block6_1_bn[0][0]']      \n",
            " n)                                                                                               \n",
            "                                                                                                  \n",
            " conv4_block6_2_pad (ZeroPaddin  (None, 16, 16, 256)  0          ['conv4_block6_1_relu[0][0]']    \n",
            " g2D)                                                                                             \n",
            "                                                                                                  \n",
            " conv4_block6_2_conv (Conv2D)   (None, 7, 7, 256)    589824      ['conv4_block6_2_pad[0][0]']     \n",
            "                                                                                                  \n",
            " conv4_block6_2_bn (BatchNormal  (None, 7, 7, 256)   1024        ['conv4_block6_2_conv[0][0]']    \n",
            " ization)                                                                                         \n",
            "                                                                                                  \n",
            " conv4_block6_2_relu (Activatio  (None, 7, 7, 256)   0           ['conv4_block6_2_bn[0][0]']      \n",
            " n)                                                                                               \n",
            "                                                                                                  \n",
            " max_pooling2d_8 (MaxPooling2D)  (None, 7, 7, 1024)  0           ['conv4_block5_out[0][0]']       \n",
            "                                                                                                  \n",
            " conv4_block6_3_conv (Conv2D)   (None, 7, 7, 1024)   263168      ['conv4_block6_2_relu[0][0]']    \n",
            "                                                                                                  \n",
            " conv4_block6_out (Add)         (None, 7, 7, 1024)   0           ['max_pooling2d_8[0][0]',        \n",
            "                                                                  'conv4_block6_3_conv[0][0]']    \n",
            "                                                                                                  \n",
            " conv5_block1_preact_bn (BatchN  (None, 7, 7, 1024)  4096        ['conv4_block6_out[0][0]']       \n",
            " ormalization)                                                                                    \n",
            "                                                                                                  \n",
            " conv5_block1_preact_relu (Acti  (None, 7, 7, 1024)  0           ['conv5_block1_preact_bn[0][0]'] \n",
            " vation)                                                                                          \n",
            "                                                                                                  \n",
            " conv5_block1_1_conv (Conv2D)   (None, 7, 7, 512)    524288      ['conv5_block1_preact_relu[0][0]'\n",
            "                                                                 ]                                \n",
            "                                                                                                  \n",
            " conv5_block1_1_bn (BatchNormal  (None, 7, 7, 512)   2048        ['conv5_block1_1_conv[0][0]']    \n",
            " ization)                                                                                         \n",
            "                                                                                                  \n",
            " conv5_block1_1_relu (Activatio  (None, 7, 7, 512)   0           ['conv5_block1_1_bn[0][0]']      \n",
            " n)                                                                                               \n",
            "                                                                                                  \n",
            " conv5_block1_2_pad (ZeroPaddin  (None, 9, 9, 512)   0           ['conv5_block1_1_relu[0][0]']    \n",
            " g2D)                                                                                             \n",
            "                                                                                                  \n",
            " conv5_block1_2_conv (Conv2D)   (None, 7, 7, 512)    2359296     ['conv5_block1_2_pad[0][0]']     \n",
            "                                                                                                  \n",
            " conv5_block1_2_bn (BatchNormal  (None, 7, 7, 512)   2048        ['conv5_block1_2_conv[0][0]']    \n",
            " ization)                                                                                         \n",
            "                                                                                                  \n",
            " conv5_block1_2_relu (Activatio  (None, 7, 7, 512)   0           ['conv5_block1_2_bn[0][0]']      \n",
            " n)                                                                                               \n",
            "                                                                                                  \n",
            " conv5_block1_0_conv (Conv2D)   (None, 7, 7, 2048)   2099200     ['conv5_block1_preact_relu[0][0]'\n",
            "                                                                 ]                                \n",
            "                                                                                                  \n",
            " conv5_block1_3_conv (Conv2D)   (None, 7, 7, 2048)   1050624     ['conv5_block1_2_relu[0][0]']    \n",
            "                                                                                                  \n",
            " conv5_block1_out (Add)         (None, 7, 7, 2048)   0           ['conv5_block1_0_conv[0][0]',    \n",
            "                                                                  'conv5_block1_3_conv[0][0]']    \n",
            "                                                                                                  \n",
            " conv5_block2_preact_bn (BatchN  (None, 7, 7, 2048)  8192        ['conv5_block1_out[0][0]']       \n",
            " ormalization)                                                                                    \n",
            "                                                                                                  \n",
            " conv5_block2_preact_relu (Acti  (None, 7, 7, 2048)  0           ['conv5_block2_preact_bn[0][0]'] \n",
            " vation)                                                                                          \n",
            "                                                                                                  \n",
            " conv5_block2_1_conv (Conv2D)   (None, 7, 7, 512)    1048576     ['conv5_block2_preact_relu[0][0]'\n",
            "                                                                 ]                                \n",
            "                                                                                                  \n",
            " conv5_block2_1_bn (BatchNormal  (None, 7, 7, 512)   2048        ['conv5_block2_1_conv[0][0]']    \n",
            " ization)                                                                                         \n",
            "                                                                                                  \n",
            " conv5_block2_1_relu (Activatio  (None, 7, 7, 512)   0           ['conv5_block2_1_bn[0][0]']      \n",
            " n)                                                                                               \n",
            "                                                                                                  \n",
            " conv5_block2_2_pad (ZeroPaddin  (None, 9, 9, 512)   0           ['conv5_block2_1_relu[0][0]']    \n",
            " g2D)                                                                                             \n",
            "                                                                                                  \n",
            " conv5_block2_2_conv (Conv2D)   (None, 7, 7, 512)    2359296     ['conv5_block2_2_pad[0][0]']     \n",
            "                                                                                                  \n",
            " conv5_block2_2_bn (BatchNormal  (None, 7, 7, 512)   2048        ['conv5_block2_2_conv[0][0]']    \n",
            " ization)                                                                                         \n",
            "                                                                                                  \n",
            " conv5_block2_2_relu (Activatio  (None, 7, 7, 512)   0           ['conv5_block2_2_bn[0][0]']      \n",
            " n)                                                                                               \n",
            "                                                                                                  \n",
            " conv5_block2_3_conv (Conv2D)   (None, 7, 7, 2048)   1050624     ['conv5_block2_2_relu[0][0]']    \n",
            "                                                                                                  \n",
            " conv5_block2_out (Add)         (None, 7, 7, 2048)   0           ['conv5_block1_out[0][0]',       \n",
            "                                                                  'conv5_block2_3_conv[0][0]']    \n",
            "                                                                                                  \n",
            " conv5_block3_preact_bn (BatchN  (None, 7, 7, 2048)  8192        ['conv5_block2_out[0][0]']       \n",
            " ormalization)                                                                                    \n",
            "                                                                                                  \n",
            " conv5_block3_preact_relu (Acti  (None, 7, 7, 2048)  0           ['conv5_block3_preact_bn[0][0]'] \n",
            " vation)                                                                                          \n",
            "                                                                                                  \n",
            " conv5_block3_1_conv (Conv2D)   (None, 7, 7, 512)    1048576     ['conv5_block3_preact_relu[0][0]'\n",
            "                                                                 ]                                \n",
            "                                                                                                  \n",
            " conv5_block3_1_bn (BatchNormal  (None, 7, 7, 512)   2048        ['conv5_block3_1_conv[0][0]']    \n",
            " ization)                                                                                         \n",
            "                                                                                                  \n",
            " conv5_block3_1_relu (Activatio  (None, 7, 7, 512)   0           ['conv5_block3_1_bn[0][0]']      \n",
            " n)                                                                                               \n",
            "                                                                                                  \n",
            " conv5_block3_2_pad (ZeroPaddin  (None, 9, 9, 512)   0           ['conv5_block3_1_relu[0][0]']    \n",
            " g2D)                                                                                             \n",
            "                                                                                                  \n",
            " conv5_block3_2_conv (Conv2D)   (None, 7, 7, 512)    2359296     ['conv5_block3_2_pad[0][0]']     \n",
            "                                                                                                  \n",
            " conv5_block3_2_bn (BatchNormal  (None, 7, 7, 512)   2048        ['conv5_block3_2_conv[0][0]']    \n",
            " ization)                                                                                         \n",
            "                                                                                                  \n",
            " conv5_block3_2_relu (Activatio  (None, 7, 7, 512)   0           ['conv5_block3_2_bn[0][0]']      \n",
            " n)                                                                                               \n",
            "                                                                                                  \n",
            " conv5_block3_3_conv (Conv2D)   (None, 7, 7, 2048)   1050624     ['conv5_block3_2_relu[0][0]']    \n",
            "                                                                                                  \n",
            " conv5_block3_out (Add)         (None, 7, 7, 2048)   0           ['conv5_block2_out[0][0]',       \n",
            "                                                                  'conv5_block3_3_conv[0][0]']    \n",
            "                                                                                                  \n",
            " post_bn (BatchNormalization)   (None, 7, 7, 2048)   8192        ['conv5_block3_out[0][0]']       \n",
            "                                                                                                  \n",
            " post_relu (Activation)         (None, 7, 7, 2048)   0           ['post_bn[0][0]']                \n",
            "                                                                                                  \n",
            " flatten (Flatten)              (None, 100352)       0           ['post_relu[0][0]']              \n",
            "                                                                                                  \n",
            " dense_11 (Dense)               (None, 512)          51380736    ['flatten[0][0]']                \n",
            "                                                                                                  \n",
            " dense_12 (Dense)               (None, 64)           32832       ['dense_11[0][0]']               \n",
            "                                                                                                  \n",
            " dense_13 (Dense)               (None, 3)            195         ['dense_12[0][0]']               \n",
            "                                                                                                  \n",
            "==================================================================================================\n",
            "Total params: 74,978,563\n",
            "Trainable params: 51,413,763\n",
            "Non-trainable params: 23,564,800\n",
            "__________________________________________________________________________________________________\n"
          ]
        }
      ]
    },
    {
      "cell_type": "code",
      "source": [
        "from tensorflow.keras.optimizers import RMSprop, Adam\n",
        "model2.compile(\n",
        "    optimizer=Adam(lr=0.00001, decay= 0.001/20),\n",
        "    loss ='binary_crossentropy',\n",
        "    metrics =['accuracy']\n",
        ")"
      ],
      "metadata": {
        "colab": {
          "base_uri": "https://localhost:8080/"
        },
        "id": "HMW1nCIVSIWJ",
        "outputId": "7ff89e52-3c8a-4a45-c6d0-104a106d7e26"
      },
      "execution_count": 67,
      "outputs": [
        {
          "output_type": "stream",
          "name": "stderr",
          "text": [
            "/usr/local/lib/python3.7/dist-packages/keras/optimizer_v2/adam.py:105: UserWarning: The `lr` argument is deprecated, use `learning_rate` instead.\n",
            "  super(Adam, self).__init__(name, **kwargs)\n"
          ]
        }
      ]
    },
    {
      "cell_type": "code",
      "source": [
        "test=model2.fit(\n",
        "    train_generator,\n",
        "     validation_data = val_generator,\n",
        "     epochs=100,\n",
        "     steps_per_epoch = 8,\n",
        "     batch_size=32,\n",
        "\n",
        ")"
      ],
      "metadata": {
        "id": "08kdTi6RUzcZ",
        "colab": {
          "base_uri": "https://localhost:8080/"
        },
        "outputId": "26294892-43c0-402b-ce63-51d0aad0eaab"
      },
      "execution_count": 68,
      "outputs": [
        {
          "output_type": "stream",
          "name": "stdout",
          "text": [
            "Epoch 1/100\n",
            "8/8 [==============================] - 144s 18s/step - loss: 0.6628 - accuracy: 0.6094 - val_loss: 1.0516 - val_accuracy: 0.5200\n",
            "Epoch 2/100\n",
            "8/8 [==============================] - 140s 18s/step - loss: 0.6625 - accuracy: 0.6641 - val_loss: 0.6445 - val_accuracy: 0.5200\n",
            "Epoch 3/100\n",
            "8/8 [==============================] - 132s 17s/step - loss: 0.4889 - accuracy: 0.7125 - val_loss: 0.5596 - val_accuracy: 0.5667\n",
            "Epoch 4/100\n",
            "8/8 [==============================] - 141s 18s/step - loss: 0.4777 - accuracy: 0.6914 - val_loss: 0.5733 - val_accuracy: 0.5400\n",
            "Epoch 5/100\n",
            "8/8 [==============================] - 138s 18s/step - loss: 0.3924 - accuracy: 0.7539 - val_loss: 0.6160 - val_accuracy: 0.5133\n",
            "Epoch 6/100\n",
            "8/8 [==============================] - 138s 18s/step - loss: 0.4990 - accuracy: 0.6641 - val_loss: 0.5703 - val_accuracy: 0.5533\n",
            "Epoch 7/100\n",
            "8/8 [==============================] - 135s 18s/step - loss: 0.4162 - accuracy: 0.7266 - val_loss: 0.5146 - val_accuracy: 0.5800\n",
            "Epoch 8/100\n",
            "8/8 [==============================] - 132s 17s/step - loss: 0.3985 - accuracy: 0.7539 - val_loss: 0.5132 - val_accuracy: 0.6000\n",
            "Epoch 9/100\n",
            "8/8 [==============================] - 136s 18s/step - loss: 0.4008 - accuracy: 0.7109 - val_loss: 0.5058 - val_accuracy: 0.6133\n",
            "Epoch 10/100\n",
            "8/8 [==============================] - 134s 18s/step - loss: 0.4401 - accuracy: 0.7148 - val_loss: 0.4987 - val_accuracy: 0.6267\n",
            "Epoch 11/100\n",
            "8/8 [==============================] - 142s 19s/step - loss: 0.3744 - accuracy: 0.7500 - val_loss: 0.5017 - val_accuracy: 0.6267\n",
            "Epoch 12/100\n",
            "8/8 [==============================] - 133s 17s/step - loss: 0.4045 - accuracy: 0.7125 - val_loss: 0.4854 - val_accuracy: 0.6667\n",
            "Epoch 13/100\n",
            "8/8 [==============================] - 131s 17s/step - loss: 0.3751 - accuracy: 0.7422 - val_loss: 0.4660 - val_accuracy: 0.7000\n",
            "Epoch 14/100\n",
            "8/8 [==============================] - 130s 18s/step - loss: 0.3937 - accuracy: 0.7375 - val_loss: 0.4734 - val_accuracy: 0.6667\n",
            "Epoch 15/100\n",
            "8/8 [==============================] - 135s 17s/step - loss: 0.4102 - accuracy: 0.7461 - val_loss: 0.4571 - val_accuracy: 0.7000\n",
            "Epoch 16/100\n",
            "8/8 [==============================] - 137s 17s/step - loss: 0.3845 - accuracy: 0.7383 - val_loss: 0.4558 - val_accuracy: 0.7200\n",
            "Epoch 17/100\n",
            "8/8 [==============================] - 133s 17s/step - loss: 0.3826 - accuracy: 0.7656 - val_loss: 0.4588 - val_accuracy: 0.6867\n",
            "Epoch 18/100\n",
            "8/8 [==============================] - 128s 17s/step - loss: 0.3333 - accuracy: 0.7750 - val_loss: 0.4452 - val_accuracy: 0.7133\n",
            "Epoch 19/100\n",
            "8/8 [==============================] - 133s 17s/step - loss: 0.3240 - accuracy: 0.8125 - val_loss: 0.4689 - val_accuracy: 0.6733\n",
            "Epoch 20/100\n",
            "8/8 [==============================] - 140s 18s/step - loss: 0.3654 - accuracy: 0.7383 - val_loss: 0.4330 - val_accuracy: 0.7200\n",
            "Epoch 21/100\n",
            "8/8 [==============================] - 136s 18s/step - loss: 0.3746 - accuracy: 0.7969 - val_loss: 0.4214 - val_accuracy: 0.7467\n",
            "Epoch 22/100\n",
            "8/8 [==============================] - 131s 17s/step - loss: 0.3467 - accuracy: 0.7969 - val_loss: 0.4304 - val_accuracy: 0.7000\n",
            "Epoch 23/100\n",
            "8/8 [==============================] - 133s 17s/step - loss: 0.3510 - accuracy: 0.7891 - val_loss: 0.4353 - val_accuracy: 0.7000\n",
            "Epoch 24/100\n",
            "8/8 [==============================] - 131s 17s/step - loss: 0.3449 - accuracy: 0.7734 - val_loss: 0.4252 - val_accuracy: 0.7067\n",
            "Epoch 25/100\n",
            "8/8 [==============================] - 135s 17s/step - loss: 0.3596 - accuracy: 0.7617 - val_loss: 0.4079 - val_accuracy: 0.7267\n",
            "Epoch 26/100\n",
            "8/8 [==============================] - 135s 18s/step - loss: 0.3243 - accuracy: 0.8320 - val_loss: 0.4056 - val_accuracy: 0.7533\n",
            "Epoch 27/100\n",
            "8/8 [==============================] - 130s 17s/step - loss: 0.3219 - accuracy: 0.7833 - val_loss: 0.4307 - val_accuracy: 0.7200\n",
            "Epoch 28/100\n",
            "8/8 [==============================] - 133s 18s/step - loss: 0.3171 - accuracy: 0.7930 - val_loss: 0.4137 - val_accuracy: 0.7267\n",
            "Epoch 29/100\n",
            "8/8 [==============================] - 137s 18s/step - loss: 0.3287 - accuracy: 0.7969 - val_loss: 0.4152 - val_accuracy: 0.7333\n",
            "Epoch 30/100\n",
            "8/8 [==============================] - 132s 17s/step - loss: 0.3117 - accuracy: 0.8086 - val_loss: 0.4179 - val_accuracy: 0.7467\n",
            "Epoch 31/100\n",
            "8/8 [==============================] - 137s 18s/step - loss: 0.3223 - accuracy: 0.7773 - val_loss: 0.4192 - val_accuracy: 0.7400\n",
            "Epoch 32/100\n",
            "8/8 [==============================] - 134s 17s/step - loss: 0.3119 - accuracy: 0.8086 - val_loss: 0.4312 - val_accuracy: 0.7400\n",
            "Epoch 33/100\n",
            "8/8 [==============================] - 138s 18s/step - loss: 0.2945 - accuracy: 0.8320 - val_loss: 0.4326 - val_accuracy: 0.7133\n",
            "Epoch 34/100\n",
            "8/8 [==============================] - 137s 18s/step - loss: 0.3021 - accuracy: 0.8242 - val_loss: 0.4338 - val_accuracy: 0.7000\n",
            "Epoch 35/100\n",
            "8/8 [==============================] - 133s 17s/step - loss: 0.3243 - accuracy: 0.8125 - val_loss: 0.4340 - val_accuracy: 0.7133\n",
            "Epoch 36/100\n",
            "8/8 [==============================] - 133s 17s/step - loss: 0.3097 - accuracy: 0.8164 - val_loss: 0.4498 - val_accuracy: 0.7133\n",
            "Epoch 37/100\n",
            "8/8 [==============================] - 130s 17s/step - loss: 0.2926 - accuracy: 0.8281 - val_loss: 0.4502 - val_accuracy: 0.7200\n",
            "Epoch 38/100\n",
            "8/8 [==============================] - 134s 17s/step - loss: 0.2961 - accuracy: 0.8281 - val_loss: 0.4479 - val_accuracy: 0.7067\n",
            "Epoch 39/100\n",
            "8/8 [==============================] - 128s 17s/step - loss: 0.2824 - accuracy: 0.8086 - val_loss: 0.4459 - val_accuracy: 0.7067\n",
            "Epoch 40/100\n",
            "8/8 [==============================] - 131s 17s/step - loss: 0.3425 - accuracy: 0.7578 - val_loss: 0.4282 - val_accuracy: 0.7333\n",
            "Epoch 41/100\n",
            "8/8 [==============================] - 131s 17s/step - loss: 0.2881 - accuracy: 0.8359 - val_loss: 0.4356 - val_accuracy: 0.7200\n",
            "Epoch 42/100\n",
            "8/8 [==============================] - 139s 18s/step - loss: 0.2934 - accuracy: 0.8242 - val_loss: 0.4468 - val_accuracy: 0.7133\n",
            "Epoch 43/100\n",
            "8/8 [==============================] - 132s 17s/step - loss: 0.2582 - accuracy: 0.8281 - val_loss: 0.4236 - val_accuracy: 0.7067\n",
            "Epoch 44/100\n",
            "8/8 [==============================] - 135s 17s/step - loss: 0.3125 - accuracy: 0.7852 - val_loss: 0.4169 - val_accuracy: 0.7200\n",
            "Epoch 45/100\n",
            "8/8 [==============================] - 132s 17s/step - loss: 0.3076 - accuracy: 0.7852 - val_loss: 0.4401 - val_accuracy: 0.7267\n",
            "Epoch 46/100\n",
            "8/8 [==============================] - 130s 17s/step - loss: 0.2621 - accuracy: 0.8500 - val_loss: 0.4373 - val_accuracy: 0.7133\n",
            "Epoch 47/100\n",
            "8/8 [==============================] - 131s 17s/step - loss: 0.2957 - accuracy: 0.8281 - val_loss: 0.4289 - val_accuracy: 0.7267\n",
            "Epoch 48/100\n",
            "8/8 [==============================] - 137s 18s/step - loss: 0.2988 - accuracy: 0.8164 - val_loss: 0.4541 - val_accuracy: 0.6867\n",
            "Epoch 49/100\n",
            "8/8 [==============================] - 133s 17s/step - loss: 0.2562 - accuracy: 0.8516 - val_loss: 0.4403 - val_accuracy: 0.7000\n",
            "Epoch 50/100\n",
            "8/8 [==============================] - 134s 18s/step - loss: 0.2488 - accuracy: 0.8477 - val_loss: 0.4423 - val_accuracy: 0.7133\n",
            "Epoch 51/100\n",
            "8/8 [==============================] - 131s 17s/step - loss: 0.2504 - accuracy: 0.8458 - val_loss: 0.4497 - val_accuracy: 0.7067\n",
            "Epoch 52/100\n",
            "8/8 [==============================] - 132s 17s/step - loss: 0.2479 - accuracy: 0.8438 - val_loss: 0.4303 - val_accuracy: 0.7467\n",
            "Epoch 53/100\n",
            "8/8 [==============================] - 137s 18s/step - loss: 0.2491 - accuracy: 0.8633 - val_loss: 0.4286 - val_accuracy: 0.7400\n",
            "Epoch 54/100\n",
            "8/8 [==============================] - 132s 17s/step - loss: 0.2354 - accuracy: 0.8667 - val_loss: 0.4408 - val_accuracy: 0.7133\n",
            "Epoch 55/100\n",
            "8/8 [==============================] - 137s 18s/step - loss: 0.2306 - accuracy: 0.8711 - val_loss: 0.4236 - val_accuracy: 0.7267\n",
            "Epoch 56/100\n",
            "8/8 [==============================] - 137s 18s/step - loss: 0.2561 - accuracy: 0.8633 - val_loss: 0.4592 - val_accuracy: 0.6933\n",
            "Epoch 57/100\n",
            "8/8 [==============================] - 134s 17s/step - loss: 0.2416 - accuracy: 0.8359 - val_loss: 0.4465 - val_accuracy: 0.6933\n",
            "Epoch 58/100\n",
            "8/8 [==============================] - 132s 17s/step - loss: 0.2379 - accuracy: 0.8594 - val_loss: 0.4328 - val_accuracy: 0.7067\n",
            "Epoch 59/100\n",
            "8/8 [==============================] - 134s 17s/step - loss: 0.2642 - accuracy: 0.8359 - val_loss: 0.4473 - val_accuracy: 0.6933\n",
            "Epoch 60/100\n",
            "8/8 [==============================] - 134s 18s/step - loss: 0.2724 - accuracy: 0.8555 - val_loss: 0.4352 - val_accuracy: 0.7000\n",
            "Epoch 61/100\n",
            "8/8 [==============================] - 136s 18s/step - loss: 0.2594 - accuracy: 0.8398 - val_loss: 0.4326 - val_accuracy: 0.7000\n",
            "Epoch 62/100\n",
            "8/8 [==============================] - 131s 17s/step - loss: 0.2393 - accuracy: 0.8477 - val_loss: 0.4298 - val_accuracy: 0.6667\n",
            "Epoch 63/100\n",
            "8/8 [==============================] - 134s 17s/step - loss: 0.2622 - accuracy: 0.8708 - val_loss: 0.4268 - val_accuracy: 0.7000\n",
            "Epoch 64/100\n",
            "8/8 [==============================] - 141s 18s/step - loss: 0.2487 - accuracy: 0.8516 - val_loss: 0.4157 - val_accuracy: 0.7200\n",
            "Epoch 65/100\n",
            "8/8 [==============================] - 127s 16s/step - loss: 0.2101 - accuracy: 0.8833 - val_loss: 0.4298 - val_accuracy: 0.7400\n",
            "Epoch 66/100\n",
            "8/8 [==============================] - 132s 17s/step - loss: 0.2105 - accuracy: 0.8711 - val_loss: 0.4337 - val_accuracy: 0.7600\n",
            "Epoch 67/100\n",
            "8/8 [==============================] - 134s 18s/step - loss: 0.2531 - accuracy: 0.8516 - val_loss: 0.4281 - val_accuracy: 0.7333\n",
            "Epoch 68/100\n",
            "8/8 [==============================] - 139s 18s/step - loss: 0.2295 - accuracy: 0.8750 - val_loss: 0.4471 - val_accuracy: 0.6933\n",
            "Epoch 69/100\n",
            "8/8 [==============================] - 130s 17s/step - loss: 0.2570 - accuracy: 0.8438 - val_loss: 0.4294 - val_accuracy: 0.7067\n",
            "Epoch 70/100\n",
            "8/8 [==============================] - 129s 17s/step - loss: 0.2096 - accuracy: 0.8750 - val_loss: 0.4540 - val_accuracy: 0.7000\n",
            "Epoch 71/100\n",
            "8/8 [==============================] - 139s 18s/step - loss: 0.1996 - accuracy: 0.8828 - val_loss: 0.4450 - val_accuracy: 0.7000\n",
            "Epoch 72/100\n",
            "8/8 [==============================] - 128s 17s/step - loss: 0.2201 - accuracy: 0.8672 - val_loss: 0.4474 - val_accuracy: 0.6933\n",
            "Epoch 73/100\n",
            "8/8 [==============================] - 136s 18s/step - loss: 0.2061 - accuracy: 0.8711 - val_loss: 0.4494 - val_accuracy: 0.6933\n",
            "Epoch 74/100\n",
            "8/8 [==============================] - 134s 17s/step - loss: 0.2376 - accuracy: 0.8477 - val_loss: 0.4378 - val_accuracy: 0.7067\n",
            "Epoch 75/100\n",
            "8/8 [==============================] - 139s 18s/step - loss: 0.2163 - accuracy: 0.8867 - val_loss: 0.4401 - val_accuracy: 0.7000\n",
            "Epoch 76/100\n",
            "8/8 [==============================] - 128s 17s/step - loss: 0.2295 - accuracy: 0.8672 - val_loss: 0.4766 - val_accuracy: 0.7400\n",
            "Epoch 77/100\n",
            "8/8 [==============================] - 137s 18s/step - loss: 0.2101 - accuracy: 0.8711 - val_loss: 0.4683 - val_accuracy: 0.7267\n",
            "Epoch 78/100\n",
            "8/8 [==============================] - 132s 17s/step - loss: 0.2087 - accuracy: 0.8945 - val_loss: 0.4563 - val_accuracy: 0.7067\n",
            "Epoch 79/100\n",
            "8/8 [==============================] - 126s 16s/step - loss: 0.2326 - accuracy: 0.8667 - val_loss: 0.4534 - val_accuracy: 0.7000\n",
            "Epoch 80/100\n",
            "8/8 [==============================] - 136s 18s/step - loss: 0.1874 - accuracy: 0.9141 - val_loss: 0.4767 - val_accuracy: 0.7000\n",
            "Epoch 81/100\n",
            "8/8 [==============================] - 133s 17s/step - loss: 0.2091 - accuracy: 0.8867 - val_loss: 0.4918 - val_accuracy: 0.7067\n",
            "Epoch 82/100\n",
            "8/8 [==============================] - 137s 17s/step - loss: 0.1975 - accuracy: 0.9023 - val_loss: 0.4825 - val_accuracy: 0.7200\n",
            "Epoch 83/100\n",
            "8/8 [==============================] - 138s 18s/step - loss: 0.2273 - accuracy: 0.8789 - val_loss: 0.4697 - val_accuracy: 0.7067\n",
            "Epoch 84/100\n",
            "8/8 [==============================] - 131s 17s/step - loss: 0.2448 - accuracy: 0.8320 - val_loss: 0.4545 - val_accuracy: 0.7200\n",
            "Epoch 85/100\n",
            "8/8 [==============================] - 139s 18s/step - loss: 0.2236 - accuracy: 0.8672 - val_loss: 0.4411 - val_accuracy: 0.7200\n",
            "Epoch 86/100\n",
            "8/8 [==============================] - 136s 18s/step - loss: 0.2039 - accuracy: 0.8711 - val_loss: 0.4884 - val_accuracy: 0.7133\n",
            "Epoch 87/100\n",
            "8/8 [==============================] - 135s 18s/step - loss: 0.1869 - accuracy: 0.9023 - val_loss: 0.4634 - val_accuracy: 0.7067\n",
            "Epoch 88/100\n",
            "8/8 [==============================] - 132s 17s/step - loss: 0.2150 - accuracy: 0.8906 - val_loss: 0.4626 - val_accuracy: 0.7133\n",
            "Epoch 89/100\n",
            "8/8 [==============================] - 127s 17s/step - loss: 0.2259 - accuracy: 0.8875 - val_loss: 0.4618 - val_accuracy: 0.6867\n",
            "Epoch 90/100\n",
            "8/8 [==============================] - 133s 17s/step - loss: 0.1931 - accuracy: 0.9023 - val_loss: 0.5046 - val_accuracy: 0.6933\n",
            "Epoch 91/100\n",
            "8/8 [==============================] - 137s 18s/step - loss: 0.1710 - accuracy: 0.9141 - val_loss: 0.4651 - val_accuracy: 0.7000\n",
            "Epoch 92/100\n",
            "8/8 [==============================] - 133s 17s/step - loss: 0.2060 - accuracy: 0.8984 - val_loss: 0.4656 - val_accuracy: 0.7000\n",
            "Epoch 93/100\n",
            "8/8 [==============================] - 131s 17s/step - loss: 0.1701 - accuracy: 0.9062 - val_loss: 0.4859 - val_accuracy: 0.7133\n",
            "Epoch 94/100\n",
            "8/8 [==============================] - 131s 17s/step - loss: 0.1771 - accuracy: 0.8984 - val_loss: 0.4904 - val_accuracy: 0.7200\n",
            "Epoch 95/100\n",
            "8/8 [==============================] - 136s 18s/step - loss: 0.1803 - accuracy: 0.9141 - val_loss: 0.4860 - val_accuracy: 0.7200\n",
            "Epoch 96/100\n",
            "8/8 [==============================] - 140s 18s/step - loss: 0.1764 - accuracy: 0.9141 - val_loss: 0.5046 - val_accuracy: 0.6933\n",
            "Epoch 97/100\n",
            "8/8 [==============================] - 128s 17s/step - loss: 0.2019 - accuracy: 0.8789 - val_loss: 0.4836 - val_accuracy: 0.7200\n",
            "Epoch 98/100\n",
            "8/8 [==============================] - 131s 17s/step - loss: 0.1824 - accuracy: 0.8945 - val_loss: 0.4776 - val_accuracy: 0.7133\n",
            "Epoch 99/100\n",
            "8/8 [==============================] - 136s 18s/step - loss: 0.1748 - accuracy: 0.8945 - val_loss: 0.5163 - val_accuracy: 0.7133\n",
            "Epoch 100/100\n",
            "8/8 [==============================] - 133s 17s/step - loss: 0.1615 - accuracy: 0.9023 - val_loss: 0.4937 - val_accuracy: 0.6867\n"
          ]
        }
      ]
    },
    {
      "cell_type": "code",
      "source": [
        "# TULIS CODE UNTUK MENCETAK LAMA TRAINING TIME DISINI\n",
        "import time\n",
        "start=time.time()\n",
        "print(\"waktu = \", time.time() - start, \"detik\")"
      ],
      "metadata": {
        "colab": {
          "base_uri": "https://localhost:8080/"
        },
        "id": "pFFFxrLXOCsU",
        "outputId": "a2187521-8d1b-46d0-eb53-28e5a75d4eea"
      },
      "execution_count": 69,
      "outputs": [
        {
          "output_type": "stream",
          "name": "stdout",
          "text": [
            "waktu =  0.00046133995056152344 detik\n"
          ]
        }
      ]
    },
    {
      "cell_type": "code",
      "source": [
        "import matplotlib.pyplot as plt\n",
        "%matplotlib inline\n",
        "\n",
        "plt.style.use(\"ggplot\")\n",
        "plt.figure(figsize=(12,7))\n",
        "plt.plot(test.history[\"loss\"], label=\"train_loss\")\n",
        "plt.plot(test.history[\"val_loss\"], label=\"val_loss\")\n",
        "plt.title(\"Loss Plot\")\n",
        "plt.xlabel(\"Epoch #\")\n",
        "plt.ylabel(\"Loss\")\n",
        "plt.legend()\n",
        "plt.show()\n",
        "\n",
        "plt.style.use(\"ggplot\")\n",
        "plt.figure(figsize=(12,7))\n",
        "plt.plot(test.history[\"accuracy\"], label=\"train_acc\")\n",
        "plt.plot(test.history[\"val_accuracy\"], label=\"val_acc\")\n",
        "plt.title(\"Accuracy Plot\")\n",
        "plt.xlabel(\"Epoch #\")\n",
        "plt.ylabel(\"Acc\")\n",
        "plt.legend()\n",
        "plt.show()"
      ],
      "metadata": {
        "colab": {
          "base_uri": "https://localhost:8080/",
          "height": 907
        },
        "id": "sEdlop6DRYwK",
        "outputId": "7ec5cf59-c670-4a6e-9d3a-b17ede1c546a"
      },
      "execution_count": 70,
      "outputs": [
        {
          "output_type": "display_data",
          "data": {
            "image/png": "[encoded data removed]",
            "text/plain": [
              "<Figure size 864x504 with 1 Axes>"
            ]
          },
          "metadata": {}
        },
        {
          "output_type": "display_data",
          "data": {
            "image/png": "[encoded data removed]",
            "text/plain": [
              "<Figure size 864x504 with 1 Axes>"
            ]
          },
          "metadata": {}
        }
      ]
    },
    {
      "cell_type": "code",
      "source": [
        "score = model2.evaluate(test_generator)\n",
        "\n",
        "print('Loss: {:.2f}'.format(score[0]))\n",
        "print('Accuracy: {:.2f}'.format(score[1]))"
      ],
      "metadata": {
        "colab": {
          "base_uri": "https://localhost:8080/"
        },
        "id": "ue47M_k-OKlu",
        "outputId": "659dd8e1-545c-4561-e561-22da05b76e0d"
      },
      "execution_count": 72,
      "outputs": [
        {
          "output_type": "stream",
          "name": "stdout",
          "text": [
            "19/19 [==============================] - 324s 17s/step - loss: 0.4743 - accuracy: 0.7050\n",
            "Loss: 0.47\n",
            "Accuracy: 0.70\n"
          ]
        }
      ]
    },
    {
      "cell_type": "code",
      "source": [
        "#from sklearn.metrics import classification_report\n",
        "\n",
        "#pred = model2.predict(x_train)\n",
        "#labels = (pred > 0.5).astype(np.int)\n",
        "\n",
        "#print(classification_report(y_train, labels))"
      ],
      "metadata": {
        "id": "i6AcVt8RUzhB"
      },
      "execution_count": null,
      "outputs": []
    },
    {
      "cell_type": "code",
      "source": [
        "from keras.models import save_model\n",
        "model2 = save_model(model_2,'ResNet50V2.h5')"
      ],
      "metadata": {
        "id": "o_8EnSDHUzi-",
        "colab": {
          "base_uri": "https://localhost:8080/"
        },
        "outputId": "1b58e38e-72e7-4fa4-8bef-2c2274d3c096"
      },
      "execution_count": 80,
      "outputs": [
        {
          "output_type": "stream",
          "name": "stderr",
          "text": [
            "/usr/local/lib/python3.7/dist-packages/keras/engine/functional.py:1410: CustomMaskWarning: Custom mask layers require a config and must override get_config. When loading, the custom mask layer must be passed to the custom_objects argument.\n",
            "  layer_config = serialize_layer_fn(layer)\n"
          ]
        }
      ]
    },
    {
      "cell_type": "code",
      "source": [
        "tflite_model2 = tf.keras.models.load_model('ResNet50V2.h5')\n",
        "converter = tf.lite.TFLiteConverter.from_keras_model(tflite_model2)\n",
        "tflite_save = converter.convert()\n",
        "open(\"ResNet50V2.tflite\", \"wb\").write(tflite_save)"
      ],
      "metadata": {
        "id": "iPsv4HpyUzlE",
        "colab": {
          "base_uri": "https://localhost:8080/"
        },
        "outputId": "89cffb44-a737-4b38-cb76-76cbd2eacce2"
      },
      "execution_count": 81,
      "outputs": [
        {
          "output_type": "stream",
          "name": "stdout",
          "text": [
            "INFO:tensorflow:Assets written to: /tmp/tmpu66avmap/assets\n"
          ]
        },
        {
          "output_type": "stream",
          "name": "stderr",
          "text": [
            "WARNING:absl:Buffer deduplication procedure will be skipped when flatbuffer library is not properly loaded\n"
          ]
        },
        {
          "output_type": "execute_result",
          "data": {
            "text/plain": [
              "94093932"
            ]
          },
          "metadata": {},
          "execution_count": 81
        }
      ]
    },
    {
      "cell_type": "code",
      "source": [
        "model2_json = model_2.to_json()\n",
        "with open(\"ResNet50V2.json\", \"w\") as json_file:\n",
        "    json_file.write(model2_json)"
      ],
      "metadata": {
        "id": "4r5dET_DUznL",
        "colab": {
          "base_uri": "https://localhost:8080/"
        },
        "outputId": "af888bfa-b00f-458d-ea07-f93b7eedd746"
      },
      "execution_count": 84,
      "outputs": [
        {
          "output_type": "stream",
          "name": "stderr",
          "text": [
            "/usr/local/lib/python3.7/dist-packages/keras/engine/functional.py:1410: CustomMaskWarning: Custom mask layers require a config and must override get_config. When loading, the custom mask layer must be passed to the custom_objects argument.\n",
            "  layer_config = serialize_layer_fn(layer)\n"
          ]
        }
      ]
    },
    {
      "cell_type": "code",
      "source": [
        ""
      ],
      "metadata": {
        "id": "g8qhcOd5h3Vz"
      },
      "execution_count": null,
      "outputs": []
    }
  ]
}